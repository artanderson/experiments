{
 "cells": [
  {
   "cell_type": "markdown",
   "metadata": {},
   "source": [
    "# Feature Store with Aerospike\n",
    "This notebook shows how Aerospike can be used as a feature store."
   ]
  },
  {
   "cell_type": "markdown",
   "metadata": {},
   "source": [
    "## Introduction\n",
    "This notebook demonstrates in Python how Aerospike can be used as an online feature store. In the first part, it explains and implements the key objects, data model, and operations. In the second part, it uses them in an end-to-end ML prediction scenraio from feature engineering, model training, to model serving."
   ]
  },
  {
   "cell_type": "markdown",
   "metadata": {},
   "source": [
    "## Prerequisites\n",
    "This tutorial assumes familiarity with the following topics:\n",
    "\n",
    "- Aerospike Notebooks - Readme and Tips\n",
    "- Hello World\n",
    "- PySpark"
   ]
  },
  {
   "cell_type": "markdown",
   "metadata": {},
   "source": [
    "## Setup"
   ]
  },
  {
   "cell_type": "markdown",
   "metadata": {},
   "source": [
    "### Ensure Database Is Running\n",
    "This notebook requires that Aerospike datbase is running."
   ]
  },
  {
   "cell_type": "code",
   "execution_count": 51,
   "metadata": {
    "scrolled": true
   },
   "outputs": [
    {
     "name": "stdout",
     "output_type": "stream",
     "text": [
      "Aerospike database is running!\r\n"
     ]
    }
   ],
   "source": [
    "!asd >& /dev/null\n",
    "!pgrep -x asd >/dev/null && echo \"Aerospike database is running!\" || echo \"**Aerospike database is not running!**\""
   ]
  },
  {
   "cell_type": "markdown",
   "metadata": {},
   "source": [
    "### Initialize Spark"
   ]
  },
  {
   "cell_type": "markdown",
   "metadata": {},
   "source": [
    "#### Initialize Paths and Env Variables"
   ]
  },
  {
   "cell_type": "code",
   "execution_count": 52,
   "metadata": {},
   "outputs": [],
   "source": [
    "# directory where spark notebook requisites are installed\n",
    "#SPARK_NB_DIR = '/home/jovyan/notebooks/spark'\n",
    "SPARK_NB_DIR = '/opt/spark-nb'\n",
    "SPARK_HOME = SPARK_NB_DIR + '/spark-3.0.0-bin-hadoop3.2'"
   ]
  },
  {
   "cell_type": "code",
   "execution_count": 53,
   "metadata": {},
   "outputs": [],
   "source": [
    "# IP Address or DNS name for one host in your Aerospike cluster\n",
    "AS_HOST =\"localhost\"\n",
    "# Name of one of your namespaces. Type 'show namespaces' at the aql prompt if you are not sure\n",
    "AS_NAMESPACE = \"test\" \n",
    "AEROSPIKE_SPARK_JAR_VERSION=\"3.1.0\"\n",
    "AS_PORT = 3000 # Usually 3000, but change here if not\n",
    "AS_CONNECTION_STRING = AS_HOST + \":\"+ str(AS_PORT)"
   ]
  },
  {
   "cell_type": "code",
   "execution_count": 54,
   "metadata": {},
   "outputs": [],
   "source": [
    "# Next we locate the Spark installation - this will be found using the SPARK_HOME environment variable that you will have set \n",
    "import findspark\n",
    "findspark.init(SPARK_HOME)"
   ]
  },
  {
   "cell_type": "code",
   "execution_count": 55,
   "metadata": {},
   "outputs": [],
   "source": [
    "# Aerospike Spark Connector related settings\n",
    "import os \n",
    "AEROSPIKE_JAR_PATH= \"aerospike-spark-assembly-\"+AEROSPIKE_SPARK_JAR_VERSION+\".jar\"\n",
    "os.environ[\"PYSPARK_SUBMIT_ARGS\"] = '--jars ' + SPARK_NB_DIR + '/' + AEROSPIKE_JAR_PATH + ' pyspark-shell'"
   ]
  },
  {
   "cell_type": "markdown",
   "metadata": {},
   "source": [
    "#### Configure Spark Session\n",
    "Please visit [Configuring Aerospike Connect for Spark](https://docs.aerospike.com/docs/connect/processing/spark/configuration.html) for more information about the properties used on this page."
   ]
  },
  {
   "cell_type": "code",
   "execution_count": 56,
   "metadata": {},
   "outputs": [],
   "source": [
    "# imports\n",
    "import pyspark\n",
    "from pyspark.context import SparkContext\n",
    "from pyspark.sql.context import SQLContext\n",
    "from pyspark.sql.session import SparkSession\n",
    "from pyspark.sql.types import StringType, StructField, StructType, ArrayType, IntegerType, MapType, LongType, DoubleType"
   ]
  },
  {
   "cell_type": "code",
   "execution_count": 57,
   "metadata": {},
   "outputs": [],
   "source": [
    "sc = SparkContext.getOrCreate()\n",
    "conf=sc._conf.setAll([(\"aerospike.namespace\",AS_NAMESPACE),(\"aerospike.seedhost\",AS_CONNECTION_STRING)])\n",
    "sc.stop()\n",
    "sc = pyspark.SparkContext(conf=conf)\n",
    "spark = SparkSession(sc)\n",
    "sqlContext = SQLContext(sc)"
   ]
  },
  {
   "cell_type": "markdown",
   "metadata": {},
   "source": [
    "### Access Shell Commands\n",
    "You may execute shell commands including Aerospike tools like [aql](https://docs.aerospike.com/docs/tools/aql/index.html) and [asadm](https://docs.aerospike.com/docs/tools/asadm/index.html) in the terminal tab throughout this tutorial. Open a terminal tab by selecting File->Open from the notebook menu, and then New->Terminal."
   ]
  },
  {
   "cell_type": "markdown",
   "metadata": {},
   "source": [
    "# Feature Store: Definition and Simple Implementation\n",
    "In this notebook, we will implement and use the following key objects:\n",
    "- Feature Groups\n",
    "- Features\n",
    "- Feature Values\n",
    "- Datasets"
   ]
  },
  {
   "cell_type": "markdown",
   "metadata": {},
   "source": [
    "## Feature Store Objects and Data Model\n",
    "### Features Group\n",
    "One way to organize ML features is by grouping them by the source of data and/or processing pipeline. A Feature Group includes many features, and has the following attributes that are useful during feature exploration:\n",
    "- name: a unique name (a string)\n",
    "- description: the description of the feature group\n",
    "- source: source of fact data \n",
    "\n",
    "A feature group is stored in the set \"fg-metadata\".\n",
    "\n",
    "### Feature\n",
    "A Feature consists of the following attributes:\n",
    "- id: the record user-key consists of the string concatenation of fg_name and feature name in the form: fg_name|name.\n",
    "- fg_name: the name of the feature group the feature belongs to\n",
    "- name: feature name that is unique name within the feature group\n",
    "- description: human readable description for exploration\n",
    "- online: a flag indicating if the feature is available online \n",
    "- other: other attributes can include various stats, performance, and other info.\n",
    "\n",
    "A feature group is stored in the set \"feature-metadata\".\n",
    "\n",
    "### Feature Value\n",
    "Feature values are stored for an entity such as a user, credit card, or sensor, and form input records for the ML model datasets. Features in multiple feature groups may be combined for an entity type and their values are stored with each entity instance. A feature values record for an entity has these attributes:\n",
    "- id: id of the entity instance serves as the record key.\n",
    "- fvalues: a map of feature id -> value. The value is encoded as a string prefixed with its type indcator. For example, \"i12\", \"sHarry Potter\", and \"f1.23\".\n",
    "- other: other attributes can include update timestamp, online flag for ease of replication, etc.\n",
    "\n",
    "Feature values for an entity type are stored in entity-type specific set \"entity-type-fvalues\". For example, feature values for users are stored in user-fvalues and for credit cards are stored in cc-fvalues. \n",
    "    \n",
    "### Dataset\n",
    "Datasets hold a selected subset of feature values and entity instances. Only the metadata information is stored in Aerospike while the actual materialization is stored in another store (such as a file system). A dataset record has following attributes.\n",
    "- name: name of the data set, serves as the key for the record\n",
    "- description: description of the dataset\n",
    "- location: location and store details\n",
    "- features: list of features\n",
    "- query: query details to enumerate the entity instances in the dataset.\n",
    "\n",
    "Datasets are stored in the set \"dataset-metadata\"."
   ]
  },
  {
   "cell_type": "markdown",
   "metadata": {},
   "source": [
    "## Feature Store Operations\n",
    "The following operations are implemented for the different use scenarios:\n",
    "- Feature Engineering\n",
    "    - Feature Group\n",
    "        - create (save)\n",
    "    - Feature\n",
    "        - create (save)\n",
    "    - Feature Values\n",
    "        - create or update (save) individually or from a dataframe\n",
    "\n",
    "- Model Training\n",
    "    - Feature Group\n",
    "        - load (get)\n",
    "    - Feature\n",
    "        - query by group and/or other attribute (query by predicate)\n",
    "    - Feature Values\n",
    "        - query by predicate to get a dataframe\n",
    "    - Dataset\n",
    "        - create (save metadata)\n",
    "\n",
    "- Model Serving\n",
    "    - Feature Values\n",
    "        - get specific feature values for an entity instance"
   ]
  },
  {
   "cell_type": "markdown",
   "metadata": {},
   "source": [
    "## Feature Store Implementation\n",
    "The following code is a simple implementation of the above operations. These operations will be illustrated in the next section with an end-to-end example."
   ]
  },
  {
   "cell_type": "markdown",
   "metadata": {},
   "source": [
    "### Feature Group Implementation"
   ]
  },
  {
   "cell_type": "code",
   "execution_count": 58,
   "metadata": {},
   "outputs": [],
   "source": [
    "class FeatureGroup:\n",
    "    schema = StructType([StructField(\"name\", StringType(), False),\n",
    "                         StructField(\"description\", StringType(), True),\n",
    "                         StructField(\"source\", StringType(), True)])\n",
    "    \n",
    "    def __init__(self, name, description, source):\n",
    "            self.name = name\n",
    "            self.description = description\n",
    "            self.source = source\n",
    "            return\n",
    "\n",
    "    def __str__(self):\n",
    "        return str(self.__class__) + \": \" + str(self.__dict__)\n",
    "\n",
    "\n",
    "    def save(self):\n",
    "        inputBuf = [(self.name, self.description, self.source)]\n",
    "        inputRDD = spark.sparkContext.parallelize(inputBuf)            \n",
    "        inputDF = spark.createDataFrame(inputRDD, FeatureGroup.schema)\n",
    "        #Write the data frame to Aerospike, the name field is used as the primary key\n",
    "        inputDF.write \\\n",
    "            .mode('overwrite') \\\n",
    "            .format(\"aerospike\")  \\\n",
    "            .option(\"aerospike.writeset\", \"fg_metadata\")\\\n",
    "            .option(\"aerospike.updateByKey\", \"name\") \\\n",
    "            .save()\n",
    "        return \n",
    "\n",
    "    def load(name):\n",
    "        fg = None\n",
    "        fgdf = spark.read \\\n",
    "            .format(\"aerospike\") \\\n",
    "            .option(\"aerospike.set\", \"fg_metadata\") \\\n",
    "            .schema(FeatureGroup.schema) \\\n",
    "            .load().where(\"name = \\\"\" + name + \"\\\"\")  \n",
    "        if fgdf.count() > 0:\n",
    "            #fgdf = fgdf.select('name', 'description', 'source')\n",
    "            fgtuple = fgdf.collect()[0]\n",
    "            fg = FeatureGroup(*fgtuple)       \n",
    "        return fg"
   ]
  },
  {
   "cell_type": "code",
   "execution_count": 59,
   "metadata": {},
   "outputs": [
    {
     "name": "stdout",
     "output_type": "stream",
     "text": [
      "<class '__main__.FeatureGroup'>: {'name': 'fg_name1', 'description': 'fg_desc1', 'source': 'fg_source1'}\n"
     ]
    }
   ],
   "source": [
    "#test feature group \n",
    "fg1 = FeatureGroup(\"fg_name1\", \"fg_desc1\", \"fg_source1\")\n",
    "fg1.save()\n",
    "# test read\n",
    "fg2 = FeatureGroup.load(\"fg_name1\")\n",
    "print(fg2)"
   ]
  },
  {
   "cell_type": "markdown",
   "metadata": {},
   "source": [
    "### Feature Implementation"
   ]
  },
  {
   "cell_type": "code",
   "execution_count": 60,
   "metadata": {},
   "outputs": [],
   "source": [
    "class Feature:\n",
    "    schema = StructType([StructField(\"fid\", StringType(), False),\n",
    "                           StructField(\"fg_name\", StringType(), False),\n",
    "                           StructField(\"name\", StringType(), False),\n",
    "                           StructField(\"description\", StringType(), True),\n",
    "                           StructField(\"online_flag\", IntegerType(), True)])\n",
    "\n",
    "    def __init__(self, fg_name, name, description, online_flag):\n",
    "        self.fid = fg_name + '|' + name\n",
    "        self.fg_name = fg_name\n",
    "        self.name = name\n",
    "        self.description = description\n",
    "        self.online_flag = online_flag\n",
    "        return\n",
    "    \n",
    "    def __str__(self):\n",
    "        return str(self.__class__) + \": \" + str(self.__dict__)\n",
    "\n",
    "    def tuple(self):\n",
    "        return (self.fg_name, self.name, self.f_description, self.online_flag)\n",
    "    \n",
    "    def save(self):\n",
    "        inputBuf = [(self.fid, self.fg_name, self.name, self.description, self.online_flag)]\n",
    "        inputRDD = spark.sparkContext.parallelize(inputBuf)            \n",
    "        inputDF = spark.createDataFrame(inputRDD, Feature.schema)\n",
    "        #Write the data frame to Aerospike, the name field is used as the primary key\n",
    "        inputDF.write \\\n",
    "            .mode('overwrite') \\\n",
    "            .format(\"aerospike\")  \\\n",
    "            .option(\"aerospike.writeset\", \"feature_metadata\")\\\n",
    "            .option(\"aerospike.updateByKey\", \"fid\") \\\n",
    "            .save()\n",
    "        return \n",
    "\n",
    "    def load(fg_name, name):\n",
    "        f = None\n",
    "        f_df = spark.read \\\n",
    "            .format(\"aerospike\") \\\n",
    "            .schema(Feature.schema) \\\n",
    "            .option(\"aerospike.set\", \"feature_metadata\") \\\n",
    "            .load().where(\"fid = \\\"\" + fg_name+'|'+name + \"\\\"\")  \n",
    "        #f_df.show();\n",
    "        if f_df.count() > 0:\n",
    "            #f_df = f_df.select('fg_name', 'name', 'description', 'online_flag')\n",
    "            f_tuple = f_df.collect()[0]\n",
    "            f = Feature(*f_tuple[1:])       \n",
    "        return f\n",
    "    \n",
    "    def queryByGroup(fg_name):\n",
    "        features = []\n",
    "        f_df = spark.read \\\n",
    "            .format(\"aerospike\") \\\n",
    "            .schema(Feature.schema) \\\n",
    "            .option(\"aerospike.set\", \"feature_metadata\") \\\n",
    "            .load().where(\"fg_name = \\\"\" + fg_name + \"\\\"\")  \n",
    "        #f_df.show()\n",
    "        #f_df = f_df.select('fg_name', 'name', 'description', 'online_flag')\n",
    "        for i in range(f_df.count()):\n",
    "            f_tuple = f_df.collect()[i]\n",
    "            features.append(Feature(*f_tuple[1:]))\n",
    "        return features"
   ]
  },
  {
   "cell_type": "code",
   "execution_count": 61,
   "metadata": {},
   "outputs": [
    {
     "name": "stdout",
     "output_type": "stream",
     "text": [
      "<class '__main__.Feature'>: {'fid': 'fg_name1|f_name1', 'fg_name': 'fg_name1', 'name': 'f_name1', 'description': 'f_desc1', 'online_flag': 1}\n",
      "Features in feature group fg_name1:\n",
      "<class '__main__.Feature'>: {'fid': 'fg_name1|f_name2', 'fg_name': 'fg_name1', 'name': 'f_name2', 'description': 'f_desc2', 'online_flag': 1}\n",
      "<class '__main__.Feature'>: {'fid': 'fg_name1|f_name1', 'fg_name': 'fg_name1', 'name': 'f_name1', 'description': 'f_desc1', 'online_flag': 1}\n"
     ]
    }
   ],
   "source": [
    "# test Feature\n",
    "#test save and load\n",
    "feature1 = Feature(\"fg_name1\", \"f_name1\", \"f_desc1\", 1)\n",
    "feature1.save()\n",
    "f1 = Feature.load(\"fg_name1\", \"f_name1\")\n",
    "print(f1)\n",
    "# test query\n",
    "feature2 = Feature(\"fg_name1\", \"f_name2\", \"f_desc2\", 1)\n",
    "feature2.save()\n",
    "features = Feature.queryByGroup('fg_name1')\n",
    "print(\"Features in feature group fg_name1:\")\n",
    "for f in features:\n",
    "    print(f)"
   ]
  },
  {
   "cell_type": "markdown",
   "metadata": {},
   "source": [
    "### Feature Values Implementation"
   ]
  },
  {
   "cell_type": "code",
   "execution_count": 100,
   "metadata": {},
   "outputs": [],
   "source": [
    "class FeatureValues:\n",
    "    schema = StructType([StructField(\"eid\", StringType(), False),\n",
    "                         StructField(\"fvalues\", MapType(StringType(), StringType()), True)])\n",
    "\n",
    "    def __init__(self, etype, eid, fvalues):\n",
    "        self.etype = etype\n",
    "        self.eid = eid\n",
    "        self.fvalues = fvalues\n",
    "        return\n",
    "    \n",
    "    def __str__(self):\n",
    "        return str(self.__class__) + \": \" + str(self.__dict__)\n",
    "        \n",
    "    def valToDB(value):\n",
    "        conv = {str:'s', int:'i', float:'f'}\n",
    "        return conv[type(value)]+str(value)\n",
    "    \n",
    "    def valFromDB(vstr):\n",
    "        t = vstr[0]\n",
    "        v = vstr[1:]\n",
    "        return float(v) if t == 'f' else (int(v) if t == 'i' else v)\n",
    "            \n",
    "    def fvalsToDB(fvals):\n",
    "        dbrep = {}\n",
    "        for f,v in fvals.items():\n",
    "            dbrep[f] = FeatureValues.valToDB(v)\n",
    "        return dbrep\n",
    "    \n",
    "    def fvalsFromDB(dbrep):\n",
    "        fvals = {}\n",
    "        for f,v in dbrep.items():\n",
    "            fvals[f] = FeatureValues.valFromDB(v)\n",
    "        return fvals       \n",
    "        \n",
    "    def save(self):\n",
    "        inputBuf = [(self.eid, FeatureValues.fvalsToDB(self.fvalues))]\n",
    "        inputRDD = spark.sparkContext.parallelize(inputBuf)            \n",
    "        inputDF = spark.createDataFrame(inputRDD, FeatureValues.schema)\n",
    "        #Write the data frame to Aerospike, the fg_name field is used as the primary key\n",
    "        inputDF.write \\\n",
    "            .mode('overwrite') \\\n",
    "            .format(\"aerospike\")  \\\n",
    "            .option(\"aerospike.writeset\", self.etype+'-fvalues')\\\n",
    "            .option(\"aerospike.updateByKey\", \"eid\") \\\n",
    "            .save()\n",
    "        return \n",
    "\n",
    "    def load(etype, eid):\n",
    "        fv = None\n",
    "        fv_df = spark.read \\\n",
    "            .format(\"aerospike\") \\\n",
    "            .schema(FeatureValues.schema) \\\n",
    "            .option(\"aerospike.set\", etype+'-fvalues') \\\n",
    "            .option(\"aerospike.keyType\", \"string\") \\\n",
    "            .load().where(\"eid = \\\"\" + eid + \"\\\"\")  \n",
    "        if fv_df.count() > 0:\n",
    "            #fv_df = fv_df.select('eid', 'fvalues')           \n",
    "            fv_tuple = fv_df.collect()[0]\n",
    "            fv = FeatureValues(etype, fv_tuple[0], FeatureValues.fvalsFromDB(fv_tuple[1]))       \n",
    "        return fv\n",
    "    \n",
    "    def saveDF(df, etype, fg_name, eid_column): # save a dataframe\n",
    "    # df: dataframe consisting of feature values\n",
    "    # eid_column: column name that holds the eid value\n",
    "    # fg: feature group of the features\n",
    "        list_entities = map(lambda row: row.asDict(), df.collect())\n",
    "        #print(\"list_entities: \", list_entities)\n",
    "        inputBuf = [(entity[eid_column], {fg_name+'|'+k : FeatureValues.valToDB(v) \\\n",
    "                                          for k,v in entity.items() if k != eid_column}) for entity in list_entities]\n",
    "        #print(\"inputBuf: \", inputBuf)\n",
    "        inputRDD = spark.sparkContext.parallelize(inputBuf)            \n",
    "        inputDF = spark.createDataFrame(inputRDD, FeatureValues.schema)\n",
    "        #inputDF.show()\n",
    "        #Write the data frame to Aerospike, the name field is used as the primary key\n",
    "        inputDF.write \\\n",
    "            .mode('overwrite') \\\n",
    "            .format(\"aerospike\")  \\\n",
    "            .option(\"aerospike.writeset\", etype+'-fvalues')\\\n",
    "            .option(\"aerospike.updateByKey\", \"eid\") \\\n",
    "            .save()\n",
    "        return \n",
    "        \n",
    "    \n",
    "    def query(etype, predicate): #returns a dataframe\n",
    "        def add_map_element(m, k, v): #lambda function\n",
    "            m[k] = v\n",
    "            return m\n",
    "        \n",
    "        fv_df = spark.read \\\n",
    "            .format(\"aerospike\") \\\n",
    "            .schema(FeatureValues.schema) \\\n",
    "            .option(\"aerospike.set\", etype+'-fvalues') \\\n",
    "            .load().where(predicate)  \n",
    "        #fv_df = fv_df.select('eid', 'fvalues')\n",
    "        list_entities = map(lambda row: add_map_element(row[1], '|ID', row[0]), fv_df.collect())\n",
    "        buf = [{k.partition('|')[2] : FeatureValues.valFromDB(v) for k,v in entity.items()}for entity in list_entities]\n",
    "        rdd = spark.sparkContext.parallelize(buf)            \n",
    "        fv_df2 = spark.createDataFrame(rdd)\n",
    "        return fv_df2\n",
    "        \n",
    "    def get_feature_vector(etype, eid, feature_list): # elements in feature_list are in \"fg_name|name\" form\n",
    "        # the implementation is shown in Model Serving section with no Spark dependency\n",
    "        # using Aerospike client\n",
    "        pass\n",
    "        "
   ]
  },
  {
   "cell_type": "code",
   "execution_count": 63,
   "metadata": {},
   "outputs": [
    {
     "name": "stdout",
     "output_type": "stream",
     "text": [
      "<class '__main__.FeatureValues'>: {'etype': 'entity_type1', 'eid': 'eid1', 'fvalues': {'fg_name1|f_name1': 1, 'fg_name1|f_name2': 2.0, 'fg_name1|f_name3': 'three'}}\n",
      "Instances of entity type entity_type1 with eid ending in 1:\n",
      "+----+--------------------+\n",
      "| eid|             fvalues|\n",
      "+----+--------------------+\n",
      "|eid1|[fg_name1|f_name1...|\n",
      "+----+--------------------+\n",
      "\n",
      "Specified instances of entity type entity_type2:\n",
      "+----+--------------------+\n",
      "| eid|             fvalues|\n",
      "+----+--------------------+\n",
      "|eid2|[fg_name1|f_name1...|\n",
      "+----+--------------------+\n",
      "\n"
     ]
    }
   ],
   "source": [
    "# test Feature Values\n",
    "# test save and load\n",
    "fvals1 = {'fg_name1|f_name1' : 1, 'fg_name1|f_name2' : 2.0, 'fg_name1|f_name3' : 'three'}\n",
    "feature_values1 = FeatureValues('entity_type1', 'eid1', fvals1)\n",
    "feature_values1.save();\n",
    "fv1 = FeatureValues.load('entity_type1', 'eid1')\n",
    "print(fv1)\n",
    "# test query\n",
    "fvals2 = {'fg_name1|f_name1' : 10, 'fg_name1|f_name2' : 20.0, 'fg_name1|f_name3' : 'thirty'}\n",
    "feature_values2 = FeatureValues('entity_type2', 'eid2', fvals2)\n",
    "feature_values2.save();\n",
    "print(\"Instances of entity type entity_type1 with eid ending in 1:\")\n",
    "instances = FeatureValues.query('entity_type1', 'eid like \"%1\"')\n",
    "instances.show()\n",
    "print(\"Specified instances of entity type entity_type2:\")\n",
    "instances = FeatureValues.query('entity_type2', 'eid in (\"eid2\")')\n",
    "instances.show()"
   ]
  },
  {
   "cell_type": "code",
   "execution_count": 64,
   "metadata": {},
   "outputs": [
    {
     "name": "stdout",
     "output_type": "stream",
     "text": [
      "+-----+---------+---------+\n",
      "|   ID|feature_1|feature_2|\n",
      "+-----+---------+---------+\n",
      "|eid_1|        1|     12.4|\n",
      "|eid_2|        2|     30.1|\n",
      "|eid_3|        3|   100.01|\n",
      "+-----+---------+---------+\n",
      "\n"
     ]
    }
   ],
   "source": [
    "from pyspark.sql import SparkSession, Row\n",
    "# test save dataframe\n",
    "data = [{\"ID\": 'eid_1', \"feature_1\": 1, \"feature_2\": 12.40},\n",
    "        {\"ID\": 'eid_2', \"feature_1\": 2, \"feature_2\": 30.10},\n",
    "        {\"ID\": 'eid_3', \"feature_1\": 3, \"feature_2\": 100.01}\n",
    "        ]\n",
    "\n",
    "# Create data frame\n",
    "# create a new ID column if the id column needs to be preserved as a feature \n",
    "# using df.withColumn(\"ID\", df[\"id-feature\"])\n",
    "df = spark.createDataFrame([Row(**i) for i in data])\n",
    "df.show()\n",
    "FeatureValues.saveDF(df, \"etype_1\", \"fg_1\", \"ID\")"
   ]
  },
  {
   "cell_type": "markdown",
   "metadata": {},
   "source": [
    "### Dataset Implementation"
   ]
  },
  {
   "cell_type": "code",
   "execution_count": 65,
   "metadata": {},
   "outputs": [],
   "source": [
    "# TBD"
   ]
  },
  {
   "cell_type": "markdown",
   "metadata": {},
   "source": [
    "# Using Feature Store\n",
    "In this section, we show how the feature store objects and operations can be leveraged through the various phases of the ML flow."
   ]
  },
  {
   "cell_type": "markdown",
   "metadata": {},
   "source": [
    "## Create sample data"
   ]
  },
  {
   "cell_type": "code",
   "execution_count": 66,
   "metadata": {},
   "outputs": [
    {
     "name": "stdout",
     "output_type": "stream",
     "text": [
      "Data created\n"
     ]
    }
   ],
   "source": [
    "# We create age vs salary data, using three different Gaussian distributions\n",
    "import numpy as np\n",
    "import matplotlib.pyplot as plt\n",
    "import pandas as pd\n",
    "import math\n",
    "\n",
    "# Make sure we get the same results every time this workbook is run\n",
    "# Otherwise we are occasionally exposed to results not working out as expected\n",
    "np.random.seed(12345)\n",
    "\n",
    "# Create covariance matrix from std devs + correlation\n",
    "def covariance_matrix(std_dev_1,std_dev_2,correlation):\n",
    "    return [[std_dev_1 ** 2, correlation * std_dev_1 * std_dev_2], \n",
    "           [correlation * std_dev_1 * std_dev_2, std_dev_2 ** 2]]\n",
    "\n",
    "# Return a bivariate sample given means/std dev/correlation\n",
    "def age_salary_sample(distribution_params,sample_size):\n",
    "    mean = [distribution_params[\"age_mean\"], distribution_params[\"salary_mean\"]]\n",
    "    cov = covariance_matrix(distribution_params[\"age_std_dev\"],distribution_params[\"salary_std_dev\"],\n",
    "                            distribution_params[\"age_salary_correlation\"])\n",
    "    return np.random.multivariate_normal(mean, cov, sample_size).T\n",
    "\n",
    "# Define the characteristics of our age/salary distribution\n",
    "age_salary_distribution_1 = {\"age_mean\":25,\"salary_mean\":50000,\n",
    "                             \"age_std_dev\":1,\"salary_std_dev\":5000,\"age_salary_correlation\":0.3}\n",
    "\n",
    "age_salary_distribution_2 = {\"age_mean\":45,\"salary_mean\":80000,\n",
    "                             \"age_std_dev\":4,\"salary_std_dev\":8000,\"age_salary_correlation\":0.7}\n",
    "\n",
    "age_salary_distribution_3 = {\"age_mean\":35,\"salary_mean\":70000,\n",
    "                             \"age_std_dev\":2,\"salary_std_dev\":9000,\"age_salary_correlation\":0.1}\n",
    "\n",
    "distribution_data = [age_salary_distribution_1,age_salary_distribution_2,age_salary_distribution_3]\n",
    "\n",
    "# Sample age/salary data for each distributions\n",
    "sample_size_1 = 100;\n",
    "sample_size_2 = 120;\n",
    "sample_size_3 = 80;\n",
    "sample_sizes = [sample_size_1,sample_size_2,sample_size_3]\n",
    "group_1_ages,group_1_salaries = age_salary_sample(age_salary_distribution_1,sample_size=sample_size_1)\n",
    "group_2_ages,group_2_salaries = age_salary_sample(age_salary_distribution_2,sample_size=sample_size_2)\n",
    "group_3_ages,group_3_salaries = age_salary_sample(age_salary_distribution_3,sample_size=sample_size_3)\n",
    "\n",
    "ages=np.concatenate([group_1_ages,group_2_ages,group_3_ages])\n",
    "salaries=np.concatenate([group_1_salaries,group_2_salaries,group_3_salaries])\n",
    "\n",
    "print(\"Data created\")"
   ]
  },
  {
   "cell_type": "markdown",
   "metadata": {},
   "source": [
    "## FEATURE ENGINEERING"
   ]
  },
  {
   "cell_type": "markdown",
   "metadata": {},
   "source": [
    "### Display simulated age/salary data"
   ]
  },
  {
   "cell_type": "code",
   "execution_count": 67,
   "metadata": {},
   "outputs": [
    {
     "data": {
      "image/png": "[encoded data removed]",
      "text/plain": [
       "<Figure size 432x288 with 1 Axes>"
      ]
     },
     "metadata": {
      "needs_background": "light"
     },
     "output_type": "display_data"
    }
   ],
   "source": [
    "# Plot the sample data\n",
    "group_1_colour, group_2_colour, group_3_colour ='red','blue', 'pink'\n",
    "plt.xlabel('Age',fontsize=10)\n",
    "plt.ylabel(\"Salary\",fontsize=10) \n",
    "\n",
    "plt.scatter(group_1_ages,group_1_salaries,c=group_1_colour,label=\"Group 1\")\n",
    "plt.scatter(group_2_ages,group_2_salaries,c=group_2_colour,label=\"Group 2\")\n",
    "plt.scatter(group_3_ages,group_3_salaries,c=group_3_colour,label=\"Group 3\")\n",
    "\n",
    "plt.legend(loc='upper left')\n",
    "plt.show()"
   ]
  },
  {
   "cell_type": "markdown",
   "metadata": {},
   "source": [
    "### Save data (Features) to Aerospike"
   ]
  },
  {
   "cell_type": "code",
   "execution_count": 50,
   "metadata": {},
   "outputs": [],
   "source": [
    "# Turn the above records into a Data Frame\n",
    "# First of all, create an array of arrays\n",
    "inputBuf = []\n",
    "\n",
    "for  i in range(0, len(ages)) :\n",
    "     id = i + 1 # Avoid counting from zero\n",
    "     name = \"Individual: {:03d}\".format(id)\n",
    "     # Note we need to make sure values are typed correctly\n",
    "     # salary will have type numpy.float64 - if it is not cast as below, an error will be thrown\n",
    "     age = float(ages[i])\n",
    "     salary = int(salaries[i])\n",
    "     inputBuf.append((id, name,age,salary))\n",
    "\n",
    "# Convert to an RDD \n",
    "inputRDD = spark.sparkContext.parallelize(inputBuf)\n",
    "       \n",
    "# Convert to a data frame using a schema\n",
    "schema = StructType([\n",
    "    StructField(\"id\", IntegerType(), True),\n",
    "    StructField(\"name\", StringType(), True),\n",
    "    StructField(\"age\", DoubleType(), True),\n",
    "    StructField(\"salary\",IntegerType(), True)\n",
    "])\n",
    "\n",
    "inputDF=spark.createDataFrame(inputRDD,schema)\n",
    "\n",
    "''' USE THE FEATURE STORE APIS INSTEAD - BELOW\n",
    "#Write the data frame to Aerospike, the id field is used as the primary key\n",
    "inputDF \\\n",
    ".write \\\n",
    ".mode('overwrite') \\\n",
    ".format(\"aerospike\")  \\\n",
    ".option(\"aerospike.set\", \"salary_data\")\\\n",
    ".option(\"aerospike.updateByKey\", \"id\") \\\n",
    ".save()\n",
    "'''\n",
    "# Create a feature group\n",
    "FG_NAME = 'age_sal'\n",
    "FG_DESCRIPTION = 'Age salary data'\n",
    "FG_SOURCE = 'generated sample data'\n",
    "fg = FeatureGroup(FG_NAME, FG_DESCRIPTION, FG_SOURCE)\n",
    "fg.save()\n",
    "\n",
    "# create features metadata\n",
    "FEATURE_NAME = 'name'\n",
    "f_name = Feature(FG_NAME, FEATURE_NAME, \"name of the person\", 1)\n",
    "f_name.save()\n",
    "\n",
    "FEATURE_AGE = 'age'\n",
    "f_age = Feature(FG_NAME, FEATURE_AGE, \"age of the person\", 1)\n",
    "f_age.save()\n",
    "\n",
    "FEATURE_SALARY = 'salary'\n",
    "f_sal = Feature(FG_NAME, FEATURE_SALARY, \"salary of the person\", 1)\n",
    "f_sal.save()\n",
    "\n",
    "# save the feature values\n",
    "ENTITY_TYPE = 'user'\n",
    "ID_COLUMN = \"id\"\n",
    "FeatureValues.saveDF(inputDF, ENTITY_TYPE, FG_NAME, ID_COLUMN)"
   ]
  },
  {
   "cell_type": "markdown",
   "metadata": {},
   "source": [
    "Examine the data through aql with the following command:\n",
    "'''\n",
    "aql -c \"select * from test.user-fvalues\"\n",
    "'''\n",
    "The output will look like:\n",
    "'''\n",
    "select * from test.user-fvalues\n",
    "+-------+------------------------------------------------------------------------------------------------------------------------+\n",
    "| eid   | fvalues      |\n",
    "+-------+------------------------------------------------------------------------------------------------------------------------+\n",
    "| \"62\"  | KEY_ORDERED_MAP('{\"age_sal|age\":\"f25.77585254835976\", \"age_sal|salary\":\"i51768\", \"age_sal|name\":\"sIndividual: 062\"}')  |\n",
    "| \"281\" | KEY_ORDERED_MAP('{\"age_sal|age\":\"f38.08819977056483\", \"age_sal|salary\":\"i75612\", \"age_sal|name\":\"sIndividual: 281\"}')  |\n",
    "...\n",
    "'''"
   ]
  },
  {
   "cell_type": "markdown",
   "metadata": {},
   "source": [
    "## MODEL TRAINING"
   ]
  },
  {
   "cell_type": "markdown",
   "metadata": {},
   "source": [
    "## Load data into a DataFrame using user specified schema "
   ]
  },
  {
   "cell_type": "code",
   "execution_count": 101,
   "metadata": {},
   "outputs": [
    {
     "name": "stdout",
     "output_type": "stream",
     "text": [
      "+---+------------------+---------------+------+\n",
      "| ID|               age|           name|salary|\n",
      "+---+------------------+---------------+------+\n",
      "|  2| 25.77585254835976|Individual: 062| 51768|\n",
      "| 81| 38.08819977056483|Individual: 281| 75612|\n",
      "| 26| 45.82761289603616|Individual: 126| 91152|\n",
      "| 42| 42.56064799325679|Individual: 142| 80357|\n",
      "| 11|45.089995066293625|Individual: 111| 76434|\n",
      "+---+------------------+---------------+------+\n",
      "only showing top 5 rows\n",
      "\n"
     ]
    }
   ],
   "source": [
    "# If we explicitly set the schema, using the previously created schema object\n",
    "# we effectively type the rows in the Data Frame\n",
    "\n",
    "''' USE DATA STORE API TO GET THE DATAFRAME\n",
    "loadedDFWithSchema=spark \\\n",
    ".read \\\n",
    ".format(\"aerospike\") \\\n",
    ".schema(schema) \\\n",
    ".option(\"aerospike.set\", \"salary_data\").load()\n",
    "'''\n",
    "\n",
    "loadedDFWithSchema = FeatureValues.query(ENTITY_TYPE, \"int(eid) > 0\")\n",
    "loadedDFWithSchema.show(5)"
   ]
  },
  {
   "cell_type": "markdown",
   "metadata": {},
   "source": [
    "## Sampling from Aerospike DB\n",
    "\n",
    "- Sample specified number of records from Aerospike to considerably reduce data movement between Aerospike and the Spark clusters. Depending on the aerospike.partition.factor setting, you may get more records than desired. Please use this property in conjunction with Spark `limit()` function to get the specified number of records. The sample read is not randomized, so sample more than you need and use the Spark `sample()` function to randomize if you see fit. You can use it in conjunction with `aerospike.recordspersecond` to control the load on the Aerospike server while sampling.\n",
    "\n",
    "- For more information, please see [documentation](https://docs.aerospike.com/docs/connect/processing/spark/configuration.html) page."
   ]
  },
  {
   "cell_type": "markdown",
   "metadata": {},
   "source": [
    "## Data Exploration with Aerospike "
   ]
  },
  {
   "cell_type": "code",
   "execution_count": 102,
   "metadata": {},
   "outputs": [
    {
     "data": {
      "text/html": [
       "<div>\n",
       "<style scoped>\n",
       "    .dataframe tbody tr th:only-of-type {\n",
       "        vertical-align: middle;\n",
       "    }\n",
       "\n",
       "    .dataframe tbody tr th {\n",
       "        vertical-align: top;\n",
       "    }\n",
       "\n",
       "    .dataframe thead th {\n",
       "        text-align: right;\n",
       "    }\n",
       "</style>\n",
       "<table border=\"1\" class=\"dataframe\">\n",
       "  <thead>\n",
       "    <tr style=\"text-align: right;\">\n",
       "      <th></th>\n",
       "      <th>age</th>\n",
       "      <th>salary</th>\n",
       "    </tr>\n",
       "  </thead>\n",
       "  <tbody>\n",
       "    <tr>\n",
       "      <th>count</th>\n",
       "      <td>300.000000</td>\n",
       "      <td>300.000000</td>\n",
       "    </tr>\n",
       "    <tr>\n",
       "      <th>mean</th>\n",
       "      <td>35.671508</td>\n",
       "      <td>66952.626667</td>\n",
       "    </tr>\n",
       "    <tr>\n",
       "      <th>std</th>\n",
       "      <td>8.985810</td>\n",
       "      <td>14876.009907</td>\n",
       "    </tr>\n",
       "    <tr>\n",
       "      <th>min</th>\n",
       "      <td>22.513878</td>\n",
       "      <td>38148.000000</td>\n",
       "    </tr>\n",
       "    <tr>\n",
       "      <th>25%</th>\n",
       "      <td>25.773766</td>\n",
       "      <td>53387.000000</td>\n",
       "    </tr>\n",
       "    <tr>\n",
       "      <th>50%</th>\n",
       "      <td>35.651953</td>\n",
       "      <td>69062.500000</td>\n",
       "    </tr>\n",
       "    <tr>\n",
       "      <th>75%</th>\n",
       "      <td>44.030919</td>\n",
       "      <td>78533.750000</td>\n",
       "    </tr>\n",
       "    <tr>\n",
       "      <th>max</th>\n",
       "      <td>56.636219</td>\n",
       "      <td>105414.000000</td>\n",
       "    </tr>\n",
       "  </tbody>\n",
       "</table>\n",
       "</div>"
      ],
      "text/plain": [
       "              age         salary\n",
       "count  300.000000     300.000000\n",
       "mean    35.671508   66952.626667\n",
       "std      8.985810   14876.009907\n",
       "min     22.513878   38148.000000\n",
       "25%     25.773766   53387.000000\n",
       "50%     35.651953   69062.500000\n",
       "75%     44.030919   78533.750000\n",
       "max     56.636219  105414.000000"
      ]
     },
     "execution_count": 102,
     "metadata": {},
     "output_type": "execute_result"
    }
   ],
   "source": [
    "import pandas\n",
    "import matplotlib\n",
    "import matplotlib.pyplot as plt\n",
    "\n",
    "#convert Spark df to pandas df\n",
    "pdf = loadedDFWithSchema.toPandas()\n",
    "\n",
    "# Describe the data\n",
    "\n",
    "pdf.describe()"
   ]
  },
  {
   "cell_type": "code",
   "execution_count": 103,
   "metadata": {},
   "outputs": [
    {
     "name": "stdout",
     "output_type": "stream",
     "text": [
      "22 57\n"
     ]
    },
    {
     "data": {
      "image/png": "[encoded data removed]",
      "text/plain": [
       "<Figure size 432x288 with 1 Axes>"
      ]
     },
     "metadata": {
      "needs_background": "light"
     },
     "output_type": "display_data"
    },
    {
     "data": {
      "image/png": "[encoded data removed]",
      "text/plain": [
       "<Figure size 432x288 with 1 Axes>"
      ]
     },
     "metadata": {
      "needs_background": "light"
     },
     "output_type": "display_data"
    },
    {
     "data": {
      "image/png": "[encoded data removed]",
      "text/plain": [
       "<Figure size 432x288 with 2 Axes>"
      ]
     },
     "metadata": {
      "needs_background": "light"
     },
     "output_type": "display_data"
    }
   ],
   "source": [
    "#Histogram - Age\n",
    "age_min, age_max = int(np.amin(pdf['age'])), math.ceil(np.amax(pdf['age']))\n",
    "age_bucket_size = 5\n",
    "print(age_min,age_max)\n",
    "pdf[['age']].plot(kind='hist',bins=range(age_min,age_max,age_bucket_size),rwidth=0.8)\n",
    "plt.xlabel('Age',fontsize=10)\n",
    "plt.legend(loc=None)\n",
    "plt.show()\n",
    "\n",
    "#Histogram - Salary\n",
    "salary_min, salary_max = int(np.amin(pdf['salary'])), math.ceil(np.amax(pdf['salary']))\n",
    "salary_bucket_size = 5000\n",
    "pdf[['salary']].plot(kind='hist',bins=range(salary_min,salary_max,salary_bucket_size),rwidth=0.8)\n",
    "plt.xlabel('Salary',fontsize=10)\n",
    "plt.legend(loc=None)\n",
    "plt.show()\n",
    "\n",
    "# Heatmap\n",
    "age_bucket_count = math.ceil((age_max - age_min)/age_bucket_size)\n",
    "salary_bucket_count = math.ceil((salary_max - salary_min)/salary_bucket_size)\n",
    "\n",
    "x = [[0 for i in range(salary_bucket_count)] for j in range(age_bucket_count)]\n",
    "for i in range(len(pdf['age'])):\n",
    "    age_bucket = math.floor((pdf['age'][i] - age_min)/age_bucket_size)\n",
    "    salary_bucket = math.floor((pdf['salary'][i] - salary_min)/salary_bucket_size)\n",
    "    x[age_bucket][salary_bucket] += 1\n",
    "\n",
    "plt.title(\"Salary/Age distribution heatmap\")\n",
    "plt.xlabel(\"Salary in '000s\")\n",
    "plt.ylabel(\"Age\")\n",
    "\n",
    "plt.imshow(x, cmap='YlOrRd', interpolation='nearest',extent=[salary_min/1000,salary_max/1000,age_min,age_max],\n",
    "           origin=\"lower\")\n",
    "plt.colorbar(orientation=\"horizontal\")\n",
    "plt.show()"
   ]
  },
  {
   "cell_type": "markdown",
   "metadata": {},
   "source": [
    "## Machine Learning using Aerospike / Spark\n",
    "\n",
    "In this section we use the data we took from Aerospike and apply a clustering algorithm to it.\n",
    "\n",
    "We assume the data is composed of multiple data sets having a Gaussian multi-variate distribution\n",
    "\n",
    "We don't know how many clusters there are, so we try clustering based on the assumption there are 1 through 20.\n",
    "\n",
    "We compare the quality of the results using the Bayesian Information Criterion - https://en.wikipedia.org/wiki/Bayesian_information_criterion and pick the best.\n",
    "    \n",
    "### Find Optimal Cluster Count    "
   ]
  },
  {
   "cell_type": "code",
   "execution_count": 104,
   "metadata": {},
   "outputs": [
    {
     "name": "stderr",
     "output_type": "stream",
     "text": [
      "/opt/conda/lib/python3.8/site-packages/sklearn/utils/validation.py:585: FutureWarning: np.matrix usage is deprecated in 1.0 and will raise a TypeError in 1.2. Please convert to a numpy array with np.asarray. For more information see: https://numpy.org/doc/stable/reference/generated/numpy.matrix.html\n",
      "  warnings.warn(\n",
      "/opt/conda/lib/python3.8/site-packages/sklearn/utils/validation.py:585: FutureWarning: np.matrix usage is deprecated in 1.0 and will raise a TypeError in 1.2. Please convert to a numpy array with np.asarray. For more information see: https://numpy.org/doc/stable/reference/generated/numpy.matrix.html\n",
      "  warnings.warn(\n",
      "/opt/conda/lib/python3.8/site-packages/sklearn/utils/validation.py:585: FutureWarning: np.matrix usage is deprecated in 1.0 and will raise a TypeError in 1.2. Please convert to a numpy array with np.asarray. For more information see: https://numpy.org/doc/stable/reference/generated/numpy.matrix.html\n",
      "  warnings.warn(\n",
      "/opt/conda/lib/python3.8/site-packages/sklearn/utils/validation.py:585: FutureWarning: np.matrix usage is deprecated in 1.0 and will raise a TypeError in 1.2. Please convert to a numpy array with np.asarray. For more information see: https://numpy.org/doc/stable/reference/generated/numpy.matrix.html\n",
      "  warnings.warn(\n",
      "/opt/conda/lib/python3.8/site-packages/sklearn/utils/validation.py:585: FutureWarning: np.matrix usage is deprecated in 1.0 and will raise a TypeError in 1.2. Please convert to a numpy array with np.asarray. For more information see: https://numpy.org/doc/stable/reference/generated/numpy.matrix.html\n",
      "  warnings.warn(\n",
      "/opt/conda/lib/python3.8/site-packages/sklearn/utils/validation.py:585: FutureWarning: np.matrix usage is deprecated in 1.0 and will raise a TypeError in 1.2. Please convert to a numpy array with np.asarray. For more information see: https://numpy.org/doc/stable/reference/generated/numpy.matrix.html\n",
      "  warnings.warn(\n",
      "/opt/conda/lib/python3.8/site-packages/sklearn/utils/validation.py:585: FutureWarning: np.matrix usage is deprecated in 1.0 and will raise a TypeError in 1.2. Please convert to a numpy array with np.asarray. For more information see: https://numpy.org/doc/stable/reference/generated/numpy.matrix.html\n",
      "  warnings.warn(\n",
      "/opt/conda/lib/python3.8/site-packages/sklearn/utils/validation.py:585: FutureWarning: np.matrix usage is deprecated in 1.0 and will raise a TypeError in 1.2. Please convert to a numpy array with np.asarray. For more information see: https://numpy.org/doc/stable/reference/generated/numpy.matrix.html\n",
      "  warnings.warn(\n",
      "/opt/conda/lib/python3.8/site-packages/sklearn/utils/validation.py:585: FutureWarning: np.matrix usage is deprecated in 1.0 and will raise a TypeError in 1.2. Please convert to a numpy array with np.asarray. For more information see: https://numpy.org/doc/stable/reference/generated/numpy.matrix.html\n",
      "  warnings.warn(\n",
      "/opt/conda/lib/python3.8/site-packages/sklearn/utils/validation.py:585: FutureWarning: np.matrix usage is deprecated in 1.0 and will raise a TypeError in 1.2. Please convert to a numpy array with np.asarray. For more information see: https://numpy.org/doc/stable/reference/generated/numpy.matrix.html\n",
      "  warnings.warn(\n",
      "/opt/conda/lib/python3.8/site-packages/sklearn/utils/validation.py:585: FutureWarning: np.matrix usage is deprecated in 1.0 and will raise a TypeError in 1.2. Please convert to a numpy array with np.asarray. For more information see: https://numpy.org/doc/stable/reference/generated/numpy.matrix.html\n",
      "  warnings.warn(\n",
      "/opt/conda/lib/python3.8/site-packages/sklearn/utils/validation.py:585: FutureWarning: np.matrix usage is deprecated in 1.0 and will raise a TypeError in 1.2. Please convert to a numpy array with np.asarray. For more information see: https://numpy.org/doc/stable/reference/generated/numpy.matrix.html\n",
      "  warnings.warn(\n",
      "/opt/conda/lib/python3.8/site-packages/sklearn/utils/validation.py:585: FutureWarning: np.matrix usage is deprecated in 1.0 and will raise a TypeError in 1.2. Please convert to a numpy array with np.asarray. For more information see: https://numpy.org/doc/stable/reference/generated/numpy.matrix.html\n",
      "  warnings.warn(\n",
      "/opt/conda/lib/python3.8/site-packages/sklearn/utils/validation.py:585: FutureWarning: np.matrix usage is deprecated in 1.0 and will raise a TypeError in 1.2. Please convert to a numpy array with np.asarray. For more information see: https://numpy.org/doc/stable/reference/generated/numpy.matrix.html\n",
      "  warnings.warn(\n",
      "/opt/conda/lib/python3.8/site-packages/sklearn/utils/validation.py:585: FutureWarning: np.matrix usage is deprecated in 1.0 and will raise a TypeError in 1.2. Please convert to a numpy array with np.asarray. For more information see: https://numpy.org/doc/stable/reference/generated/numpy.matrix.html\n",
      "  warnings.warn(\n",
      "/opt/conda/lib/python3.8/site-packages/sklearn/utils/validation.py:585: FutureWarning: np.matrix usage is deprecated in 1.0 and will raise a TypeError in 1.2. Please convert to a numpy array with np.asarray. For more information see: https://numpy.org/doc/stable/reference/generated/numpy.matrix.html\n",
      "  warnings.warn(\n",
      "/opt/conda/lib/python3.8/site-packages/sklearn/utils/validation.py:585: FutureWarning: np.matrix usage is deprecated in 1.0 and will raise a TypeError in 1.2. Please convert to a numpy array with np.asarray. For more information see: https://numpy.org/doc/stable/reference/generated/numpy.matrix.html\n",
      "  warnings.warn(\n",
      "/opt/conda/lib/python3.8/site-packages/sklearn/utils/validation.py:585: FutureWarning: np.matrix usage is deprecated in 1.0 and will raise a TypeError in 1.2. Please convert to a numpy array with np.asarray. For more information see: https://numpy.org/doc/stable/reference/generated/numpy.matrix.html\n",
      "  warnings.warn(\n",
      "/opt/conda/lib/python3.8/site-packages/sklearn/utils/validation.py:585: FutureWarning: np.matrix usage is deprecated in 1.0 and will raise a TypeError in 1.2. Please convert to a numpy array with np.asarray. For more information see: https://numpy.org/doc/stable/reference/generated/numpy.matrix.html\n",
      "  warnings.warn(\n",
      "/opt/conda/lib/python3.8/site-packages/sklearn/utils/validation.py:585: FutureWarning: np.matrix usage is deprecated in 1.0 and will raise a TypeError in 1.2. Please convert to a numpy array with np.asarray. For more information see: https://numpy.org/doc/stable/reference/generated/numpy.matrix.html\n",
      "  warnings.warn(\n",
      "/opt/conda/lib/python3.8/site-packages/sklearn/utils/validation.py:585: FutureWarning: np.matrix usage is deprecated in 1.0 and will raise a TypeError in 1.2. Please convert to a numpy array with np.asarray. For more information see: https://numpy.org/doc/stable/reference/generated/numpy.matrix.html\n",
      "  warnings.warn(\n",
      "/opt/conda/lib/python3.8/site-packages/sklearn/utils/validation.py:585: FutureWarning: np.matrix usage is deprecated in 1.0 and will raise a TypeError in 1.2. Please convert to a numpy array with np.asarray. For more information see: https://numpy.org/doc/stable/reference/generated/numpy.matrix.html\n",
      "  warnings.warn(\n",
      "/opt/conda/lib/python3.8/site-packages/sklearn/utils/validation.py:585: FutureWarning: np.matrix usage is deprecated in 1.0 and will raise a TypeError in 1.2. Please convert to a numpy array with np.asarray. For more information see: https://numpy.org/doc/stable/reference/generated/numpy.matrix.html\n",
      "  warnings.warn(\n",
      "/opt/conda/lib/python3.8/site-packages/sklearn/utils/validation.py:585: FutureWarning: np.matrix usage is deprecated in 1.0 and will raise a TypeError in 1.2. Please convert to a numpy array with np.asarray. For more information see: https://numpy.org/doc/stable/reference/generated/numpy.matrix.html\n",
      "  warnings.warn(\n",
      "/opt/conda/lib/python3.8/site-packages/sklearn/utils/validation.py:585: FutureWarning: np.matrix usage is deprecated in 1.0 and will raise a TypeError in 1.2. Please convert to a numpy array with np.asarray. For more information see: https://numpy.org/doc/stable/reference/generated/numpy.matrix.html\n",
      "  warnings.warn(\n",
      "/opt/conda/lib/python3.8/site-packages/sklearn/utils/validation.py:585: FutureWarning: np.matrix usage is deprecated in 1.0 and will raise a TypeError in 1.2. Please convert to a numpy array with np.asarray. For more information see: https://numpy.org/doc/stable/reference/generated/numpy.matrix.html\n",
      "  warnings.warn(\n",
      "/opt/conda/lib/python3.8/site-packages/sklearn/utils/validation.py:585: FutureWarning: np.matrix usage is deprecated in 1.0 and will raise a TypeError in 1.2. Please convert to a numpy array with np.asarray. For more information see: https://numpy.org/doc/stable/reference/generated/numpy.matrix.html\n",
      "  warnings.warn(\n",
      "/opt/conda/lib/python3.8/site-packages/sklearn/utils/validation.py:585: FutureWarning: np.matrix usage is deprecated in 1.0 and will raise a TypeError in 1.2. Please convert to a numpy array with np.asarray. For more information see: https://numpy.org/doc/stable/reference/generated/numpy.matrix.html\n",
      "  warnings.warn(\n",
      "/opt/conda/lib/python3.8/site-packages/sklearn/utils/validation.py:585: FutureWarning: np.matrix usage is deprecated in 1.0 and will raise a TypeError in 1.2. Please convert to a numpy array with np.asarray. For more information see: https://numpy.org/doc/stable/reference/generated/numpy.matrix.html\n",
      "  warnings.warn(\n",
      "/opt/conda/lib/python3.8/site-packages/sklearn/utils/validation.py:585: FutureWarning: np.matrix usage is deprecated in 1.0 and will raise a TypeError in 1.2. Please convert to a numpy array with np.asarray. For more information see: https://numpy.org/doc/stable/reference/generated/numpy.matrix.html\n",
      "  warnings.warn(\n",
      "/opt/conda/lib/python3.8/site-packages/sklearn/utils/validation.py:585: FutureWarning: np.matrix usage is deprecated in 1.0 and will raise a TypeError in 1.2. Please convert to a numpy array with np.asarray. For more information see: https://numpy.org/doc/stable/reference/generated/numpy.matrix.html\n",
      "  warnings.warn(\n",
      "/opt/conda/lib/python3.8/site-packages/sklearn/utils/validation.py:585: FutureWarning: np.matrix usage is deprecated in 1.0 and will raise a TypeError in 1.2. Please convert to a numpy array with np.asarray. For more information see: https://numpy.org/doc/stable/reference/generated/numpy.matrix.html\n",
      "  warnings.warn(\n",
      "/opt/conda/lib/python3.8/site-packages/sklearn/utils/validation.py:585: FutureWarning: np.matrix usage is deprecated in 1.0 and will raise a TypeError in 1.2. Please convert to a numpy array with np.asarray. For more information see: https://numpy.org/doc/stable/reference/generated/numpy.matrix.html\n",
      "  warnings.warn(\n",
      "/opt/conda/lib/python3.8/site-packages/sklearn/utils/validation.py:585: FutureWarning: np.matrix usage is deprecated in 1.0 and will raise a TypeError in 1.2. Please convert to a numpy array with np.asarray. For more information see: https://numpy.org/doc/stable/reference/generated/numpy.matrix.html\n",
      "  warnings.warn(\n",
      "/opt/conda/lib/python3.8/site-packages/sklearn/utils/validation.py:585: FutureWarning: np.matrix usage is deprecated in 1.0 and will raise a TypeError in 1.2. Please convert to a numpy array with np.asarray. For more information see: https://numpy.org/doc/stable/reference/generated/numpy.matrix.html\n",
      "  warnings.warn(\n"
     ]
    },
    {
     "name": "stdout",
     "output_type": "stream",
     "text": [
      "Optimal cluster count found to be 4\n"
     ]
    },
    {
     "name": "stderr",
     "output_type": "stream",
     "text": [
      "/opt/conda/lib/python3.8/site-packages/sklearn/utils/validation.py:585: FutureWarning: np.matrix usage is deprecated in 1.0 and will raise a TypeError in 1.2. Please convert to a numpy array with np.asarray. For more information see: https://numpy.org/doc/stable/reference/generated/numpy.matrix.html\n",
      "  warnings.warn(\n",
      "/opt/conda/lib/python3.8/site-packages/sklearn/utils/validation.py:585: FutureWarning: np.matrix usage is deprecated in 1.0 and will raise a TypeError in 1.2. Please convert to a numpy array with np.asarray. For more information see: https://numpy.org/doc/stable/reference/generated/numpy.matrix.html\n",
      "  warnings.warn(\n",
      "/opt/conda/lib/python3.8/site-packages/sklearn/utils/validation.py:585: FutureWarning: np.matrix usage is deprecated in 1.0 and will raise a TypeError in 1.2. Please convert to a numpy array with np.asarray. For more information see: https://numpy.org/doc/stable/reference/generated/numpy.matrix.html\n",
      "  warnings.warn(\n",
      "/opt/conda/lib/python3.8/site-packages/sklearn/utils/validation.py:585: FutureWarning: np.matrix usage is deprecated in 1.0 and will raise a TypeError in 1.2. Please convert to a numpy array with np.asarray. For more information see: https://numpy.org/doc/stable/reference/generated/numpy.matrix.html\n",
      "  warnings.warn(\n",
      "/opt/conda/lib/python3.8/site-packages/sklearn/utils/validation.py:585: FutureWarning: np.matrix usage is deprecated in 1.0 and will raise a TypeError in 1.2. Please convert to a numpy array with np.asarray. For more information see: https://numpy.org/doc/stable/reference/generated/numpy.matrix.html\n",
      "  warnings.warn(\n",
      "/opt/conda/lib/python3.8/site-packages/sklearn/utils/validation.py:585: FutureWarning: np.matrix usage is deprecated in 1.0 and will raise a TypeError in 1.2. Please convert to a numpy array with np.asarray. For more information see: https://numpy.org/doc/stable/reference/generated/numpy.matrix.html\n",
      "  warnings.warn(\n",
      "/opt/conda/lib/python3.8/site-packages/sklearn/utils/validation.py:585: FutureWarning: np.matrix usage is deprecated in 1.0 and will raise a TypeError in 1.2. Please convert to a numpy array with np.asarray. For more information see: https://numpy.org/doc/stable/reference/generated/numpy.matrix.html\n",
      "  warnings.warn(\n"
     ]
    }
   ],
   "source": [
    "from sklearn.mixture import GaussianMixture\n",
    "\n",
    "# We take the data we previously \n",
    "ages=pdf['age']\n",
    "salaries=pdf['salary']\n",
    "age_salary_matrix=np.matrix([ages,salaries]).T\n",
    "\n",
    "# Find the optimal number of clusters\n",
    "optimal_cluster_count = 1\n",
    "best_bic_score = GaussianMixture(1).fit(age_salary_matrix).bic(age_salary_matrix)\n",
    "\n",
    "for count in range(1,20):\n",
    "    gm=GaussianMixture(count)\n",
    "    gm.fit(age_salary_matrix)\n",
    "    if gm.bic(age_salary_matrix) < best_bic_score:\n",
    "        best_bic_score = gm.bic(age_salary_matrix)\n",
    "        optimal_cluster_count = count\n",
    "\n",
    "print(\"Optimal cluster count found to be \"+str(optimal_cluster_count))"
   ]
  },
  {
   "cell_type": "markdown",
   "metadata": {},
   "source": [
    "## Estimate cluster distribution parameters\n",
    "Next we fit our cluster using the optimal cluster count, and print out the discovered means and covariance matrix"
   ]
  },
  {
   "cell_type": "code",
   "execution_count": 105,
   "metadata": {},
   "outputs": [
    {
     "name": "stderr",
     "output_type": "stream",
     "text": [
      "/opt/conda/lib/python3.8/site-packages/sklearn/utils/validation.py:585: FutureWarning: np.matrix usage is deprecated in 1.0 and will raise a TypeError in 1.2. Please convert to a numpy array with np.asarray. For more information see: https://numpy.org/doc/stable/reference/generated/numpy.matrix.html\n",
      "  warnings.warn(\n"
     ]
    },
    {
     "data": {
      "text/html": [
       "<div>\n",
       "<style scoped>\n",
       "    .dataframe tbody tr th:only-of-type {\n",
       "        vertical-align: middle;\n",
       "    }\n",
       "\n",
       "    .dataframe tbody tr th {\n",
       "        vertical-align: top;\n",
       "    }\n",
       "\n",
       "    .dataframe thead th {\n",
       "        text-align: right;\n",
       "    }\n",
       "</style>\n",
       "<table border=\"1\" class=\"dataframe\">\n",
       "  <thead>\n",
       "    <tr style=\"text-align: right;\">\n",
       "      <th></th>\n",
       "      <th>Est Mean Age</th>\n",
       "      <th>Est Mean Salary</th>\n",
       "      <th>Est Age Std Dev</th>\n",
       "      <th>Est Salary Std Dev</th>\n",
       "      <th>Est Correlation</th>\n",
       "    </tr>\n",
       "  </thead>\n",
       "  <tbody>\n",
       "    <tr>\n",
       "      <th>0</th>\n",
       "      <td>44.37</td>\n",
       "      <td>76736.0</td>\n",
       "      <td>3.32</td>\n",
       "      <td>4534.0</td>\n",
       "      <td>0.415</td>\n",
       "    </tr>\n",
       "    <tr>\n",
       "      <th>1</th>\n",
       "      <td>25.05</td>\n",
       "      <td>49897.0</td>\n",
       "      <td>1.06</td>\n",
       "      <td>5185.0</td>\n",
       "      <td>0.398</td>\n",
       "    </tr>\n",
       "    <tr>\n",
       "      <th>2</th>\n",
       "      <td>47.24</td>\n",
       "      <td>87827.0</td>\n",
       "      <td>3.98</td>\n",
       "      <td>6091.0</td>\n",
       "      <td>0.735</td>\n",
       "    </tr>\n",
       "    <tr>\n",
       "      <th>3</th>\n",
       "      <td>35.43</td>\n",
       "      <td>68712.0</td>\n",
       "      <td>1.85</td>\n",
       "      <td>7966.0</td>\n",
       "      <td>-0.028</td>\n",
       "    </tr>\n",
       "  </tbody>\n",
       "</table>\n",
       "</div>"
      ],
      "text/plain": [
       "   Est Mean Age  Est Mean Salary  Est Age Std Dev  Est Salary Std Dev  \\\n",
       "0         44.37          76736.0             3.32              4534.0   \n",
       "1         25.05          49897.0             1.06              5185.0   \n",
       "2         47.24          87827.0             3.98              6091.0   \n",
       "3         35.43          68712.0             1.85              7966.0   \n",
       "\n",
       "   Est Correlation  \n",
       "0            0.415  \n",
       "1            0.398  \n",
       "2            0.735  \n",
       "3           -0.028  "
      ]
     },
     "execution_count": 105,
     "metadata": {},
     "output_type": "execute_result"
    }
   ],
   "source": [
    "gm = GaussianMixture(optimal_cluster_count)\n",
    "gm.fit(age_salary_matrix)\n",
    "\n",
    "estimates = []\n",
    "# Index\n",
    "for index in range(0,optimal_cluster_count):\n",
    "    estimated_mean_age = round(gm.means_[index][0],2)\n",
    "    estimated_mean_salary = round(gm.means_[index][1],0)\n",
    "    estimated_age_std_dev = round(math.sqrt(gm.covariances_[index][0][0]),2)\n",
    "    estimated_salary_std_dev = round(math.sqrt(gm.covariances_[index][1][1]),0)\n",
    "    estimated_correlation = round(gm.covariances_[index][0][1] / ( estimated_age_std_dev * estimated_salary_std_dev ),3)\n",
    "    row = [estimated_mean_age,estimated_mean_salary,estimated_age_std_dev,estimated_salary_std_dev,estimated_correlation]\n",
    "    estimates.append(row)\n",
    "    \n",
    "pd.DataFrame(estimates,columns = [\"Est Mean Age\",\"Est Mean Salary\",\"Est Age Std Dev\",\"Est Salary Std Dev\",\"Est Correlation\"])    \n"
   ]
  },
  {
   "cell_type": "markdown",
   "metadata": {},
   "source": [
    "## Original Distribution Parameters"
   ]
  },
  {
   "cell_type": "code",
   "execution_count": 106,
   "metadata": {},
   "outputs": [
    {
     "data": {
      "text/html": [
       "<div>\n",
       "<style scoped>\n",
       "    .dataframe tbody tr th:only-of-type {\n",
       "        vertical-align: middle;\n",
       "    }\n",
       "\n",
       "    .dataframe tbody tr th {\n",
       "        vertical-align: top;\n",
       "    }\n",
       "\n",
       "    .dataframe thead th {\n",
       "        text-align: right;\n",
       "    }\n",
       "</style>\n",
       "<table border=\"1\" class=\"dataframe\">\n",
       "  <thead>\n",
       "    <tr style=\"text-align: right;\">\n",
       "      <th></th>\n",
       "      <th>Mean Age</th>\n",
       "      <th>Mean Salary</th>\n",
       "      <th>Age Std Dev</th>\n",
       "      <th>Salary Std Dev</th>\n",
       "      <th>Correlation</th>\n",
       "    </tr>\n",
       "  </thead>\n",
       "  <tbody>\n",
       "    <tr>\n",
       "      <th>0</th>\n",
       "      <td>25</td>\n",
       "      <td>50000</td>\n",
       "      <td>1</td>\n",
       "      <td>5000</td>\n",
       "      <td>0.3</td>\n",
       "    </tr>\n",
       "    <tr>\n",
       "      <th>1</th>\n",
       "      <td>45</td>\n",
       "      <td>80000</td>\n",
       "      <td>4</td>\n",
       "      <td>8000</td>\n",
       "      <td>0.7</td>\n",
       "    </tr>\n",
       "    <tr>\n",
       "      <th>2</th>\n",
       "      <td>35</td>\n",
       "      <td>70000</td>\n",
       "      <td>2</td>\n",
       "      <td>9000</td>\n",
       "      <td>0.1</td>\n",
       "    </tr>\n",
       "  </tbody>\n",
       "</table>\n",
       "</div>"
      ],
      "text/plain": [
       "   Mean Age  Mean Salary  Age Std Dev  Salary Std Dev  Correlation\n",
       "0        25        50000            1            5000          0.3\n",
       "1        45        80000            4            8000          0.7\n",
       "2        35        70000            2            9000          0.1"
      ]
     },
     "execution_count": 106,
     "metadata": {},
     "output_type": "execute_result"
    }
   ],
   "source": [
    "distribution_data_as_rows = []\n",
    "for distribution in distribution_data:\n",
    "    row = [distribution['age_mean'],distribution['salary_mean'],distribution['age_std_dev'],\n",
    "                             distribution['salary_std_dev'],distribution['age_salary_correlation']]\n",
    "    distribution_data_as_rows.append(row)\n",
    "\n",
    "pd.DataFrame(distribution_data_as_rows,columns = [\"Mean Age\",\"Mean Salary\",\"Age Std Dev\",\"Salary Std Dev\",\"Correlation\"])"
   ]
  },
  {
   "cell_type": "markdown",
   "metadata": {},
   "source": [
    "You can see that the algorithm provides good estimates of the original parameters"
   ]
  },
  {
   "cell_type": "markdown",
   "metadata": {},
   "source": [
    "# Model Serving"
   ]
  },
  {
   "cell_type": "markdown",
   "metadata": {},
   "source": [
    "## Get Feature Vector Implementation\n",
    "The Spark environment may not be available for model serving. Here the Python client library is used to get specific features for a specific entity."
   ]
  },
  {
   "cell_type": "code",
   "execution_count": null,
   "metadata": {},
   "outputs": [],
   "source": [
    "# get the map items by key list from the map record bin\n",
    "# use: aerospike_helpers.operations.map_operations.map_get_by_key_list(bin_name, key_list, \n",
    "#                                                                return_type, inverted=False, ctx=None)\n",
    "# initialize client, etc."
   ]
  },
  {
   "cell_type": "markdown",
   "metadata": {},
   "source": [
    "## Prediction\n",
    "\n",
    "We generate new age/salary pairs for each of the distributions and look at how accurate the prediction is"
   ]
  },
  {
   "cell_type": "code",
   "execution_count": null,
   "metadata": {},
   "outputs": [],
   "source": [
    "def prediction_accuracy(model,age_salary_distribution,sample_size):\n",
    "    # Generate new values\n",
    "    new_ages,new_salaries = age_salary_sample(age_salary_distribution,sample_size)\n",
    "    new_age_salary_matrix=np.matrix([new_ages,new_salaries]).T\n",
    "    # Find which cluster the mean would be classified into\n",
    "    mean = np.matrix([age_salary_distribution['age_mean'],age_salary_distribution['salary_mean']])\n",
    "    mean_cluster_index = model.predict(mean)[0]\n",
    "    # How would new samples be classified\n",
    "    classification = model.predict(new_age_salary_matrix)\n",
    "    # How many were classified correctly\n",
    "    correctly_classified = len([ 1 for x in classification if x  == mean_cluster_index])\n",
    "    return correctly_classified / sample_size\n",
    "\n",
    "prediction_accuracy_results = [None for x in range(3)]\n",
    "for index, age_salary_distribution in enumerate(distribution_data):\n",
    "    prediction_accuracy_results[index] = prediction_accuracy(gm,age_salary_distribution,1000)\n",
    "\n",
    "overall_accuracy = sum(prediction_accuracy_results)/ len(prediction_accuracy_results)\n",
    "print(\"Accuracies for each distribution : \",\" ,\".join(map('{:.2%}'.format,prediction_accuracy_results)))\n",
    "print(\"Overall accuracy : \",'{:.2%}'.format(overall_accuracy))\n"
   ]
  }
 ],
 "metadata": {
  "kernelspec": {
   "display_name": "Python 3",
   "language": "python",
   "name": "python3"
  },
  "language_info": {
   "codemirror_mode": {
    "name": "ipython",
    "version": 3
   },
   "file_extension": ".py",
   "mimetype": "text/x-python",
   "name": "python",
   "nbconvert_exporter": "python",
   "pygments_lexer": "ipython3",
   "version": "3.8.6"
  },
  "toc": {
   "base_numbering": 1,
   "nav_menu": {},
   "number_sections": true,
   "sideBar": true,
   "skip_h1_title": false,
   "title_cell": "Table of Contents",
   "title_sidebar": "Contents",
   "toc_cell": false,
   "toc_position": {},
   "toc_section_display": true,
   "toc_window_display": false
  }
 },
 "nbformat": 4,
 "nbformat_minor": 2
}
