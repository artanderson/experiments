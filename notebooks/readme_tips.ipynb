{
 "cells": [
  {
   "cell_type": "markdown",
   "metadata": {},
   "source": [
    "\n",
    "# Aerospike Notebooks Readme/Tips\n",
    "\n",
    "Here are some tips and tricks for ease of use and productive experience with Aerospike notebooks.\n",
    "<br>\n",
    "This notebook requires Aerospike datbase running on localhost and that python and the Aerospike python client have been installed (`pip install aerospike`). Visit [Aerospike notebooks repo](https://github.com/aerospike-examples/interactive-notebooks) for additional details and the docker container."
   ]
  },
  {
   "cell_type": "markdown",
   "metadata": {},
   "source": [
    "## Learn about Jupyter Notebook\n",
    "The Jupyter Notebook provides \"a web-based application suitable for capturing the whole computation process: developing, documenting, and executing code, as well as communicating the results\". New to notebooks? Here is [one source](https://jupyter-notebook.readthedocs.io/en/stable/examples/Notebook/examples_index.html) to learn more about the Jupyter Notebook."
   ]
  },
  {
   "cell_type": "markdown",
   "metadata": {},
   "source": [
    "## Find and run Aerospike notebook.\n",
    "Visit [Aerospike notebooks repo](https://github.com/aerospike-examples/interactive-notebooks) to find additional Aerospike notebooks. To run anoter notebook, download the notebook from the repo to your local machine, and then click on File->Open, and select Upload."
   ]
  },
  {
   "cell_type": "markdown",
   "metadata": {},
   "source": [
    "## Access shell commands\n",
    "\n",
    "Use the \"!\" line magic and \"%%bash\" cell magic to access shell commands. That is, you can access a shell command on any line by prefixing it with a \"!\", and an entire cell can have bash shell commands if it starts with \"%%bash\". Here are some examples:"
   ]
  },
  {
   "cell_type": "code",
   "execution_count": 1,
   "metadata": {},
   "outputs": [
    {
     "name": "stdout",
     "output_type": "stream",
     "text": [
      "  PID TTY          TIME CMD\n",
      " 9773 pts/3    00:00:00 ps\n",
      "jovyan\n"
     ]
    }
   ],
   "source": [
    "# Accessing shell commands\n",
    "!ps\n",
    "!whoami\n",
    "# Start the Aerospike database.\n",
    "!asd >& /dev/null"
   ]
  },
  {
   "cell_type": "code",
   "execution_count": 2,
   "metadata": {},
   "outputs": [
    {
     "name": "stdout",
     "output_type": "stream",
     "text": [
      "Aerospike database is running\n",
      "jovyan      25  1.8  8.4 4081812 172516 ?      Ssl  Feb28 222:12 /usr/bin/asd --config-file /etc/aerospike/aerospike.conf\n",
      "jovyan    9785  0.0  0.0   6304   732 ?        S    17:44   0:00 grep asd\n"
     ]
    }
   ],
   "source": [
    "%%bash \n",
    "# bash cell\n",
    "# Check if the Aerospike database is running.\n",
    "pgrep -x asd >/dev/null && echo \"Aerospike database is running\" || echo \"**Aerospike database is not running!**\"\n",
    "ps -axu | grep asd"
   ]
  },
  {
   "cell_type": "markdown",
   "metadata": {},
   "source": [
    "### Shell commands from Java kernel\n",
    "The Java kernel currently does not have a robust command shell access. The line magic %sh is limited in what it supports. For example, tools like aql or asadm that take arguments do not work, for example: ‘aql -c “select * from test.demo”’. Actions such as changing the server config or tailing server log may not be possible through the Java kernel’s %sh escape.\n",
    "\n",
    "There are multiple ways to access a functional shell from a Java notebook:\n",
    "1. Use a terminal window. If you have access to a directory view in the notebook (in an installed container setting, and if Binder is launched on a directory), there is a New menu on the top right side. Select New->Terminal for a fully functional shell.\n",
    "2. Use Python kernel’s shell magic. \n",
    "    - In a new notebook. If the directory view is not accessible (this is the case when the notebook is directly launched in Binder), start a new Python notebook and use the “!!” cell magic or “!” line magic to access shell commands The Python kernel’s shell access im better than Java kernel’s at this point.\n",
    "    - In the same notebook. A somewhat kludgy way is to access Python kernel’s bash shell magic from the same (Java) notebook by changing the notebook kernel to Python. You can then use Python kernel’s shell magic (!! or !) to view logs, change server config, and so on. However when you get back to the Java kernel to run your Java cells, the old state is lost, and you will need to re-execute necessary cells."
   ]
  },
  {
   "cell_type": "markdown",
   "metadata": {},
   "source": [
    "## Examine server log\n",
    "It is useful to examine the server log. Assuming it is located at /var/log/aerospike/aerospike.log, and you have the permissions, you can run the following to view the last 10 lines of the log. (Adjust the log path to your setting.)"
   ]
  },
  {
   "cell_type": "code",
   "execution_count": 3,
   "metadata": {},
   "outputs": [
    {
     "name": "stdout",
     "output_type": "stream",
     "text": [
      "End of server log:\r\n",
      "tail: cannot open '/var/log/aerospike/aerospike.log' for reading: No such file or directory\r\n"
     ]
    }
   ],
   "source": [
    "# View the last 10 lines of the log:\n",
    "!echo \"End of server log:\"; tail -10 /var/log/aerospike/aerospike.log"
   ]
  },
  {
   "cell_type": "markdown",
   "metadata": {},
   "source": [
    "## View database state.\n",
    "\n",
    "The command line tool \"aql\" can be very handy to examine the data and metadata in the database. For a more complete description of the capabilities, see the [doc](https://www.aerospike.com/docs/tools/aql/index.html). Assuming the database has namespace \"test\", the following commands can be executed."
   ]
  },
  {
   "cell_type": "code",
   "execution_count": 4,
   "metadata": {},
   "outputs": [
    {
     "name": "stdout",
     "output_type": "stream",
     "text": [
      "INSERT INTO test.demo (PK, 'testbin') VALUES (1, 'hello world!')\n",
      "OK, 1 record affected.\n",
      "\n",
      "\n",
      "SELECT * FROM test.demo\n",
      "+----------------+\n",
      "| testbin        |\n",
      "+----------------+\n",
      "| \"hello world!\" |\n",
      "+----------------+\n",
      "1 row in set (0.148 secs)\n",
      "\n",
      "OK\n",
      "\n",
      "\n",
      "DELETE FROM test.demo WHERE PK = 1\n",
      "OK, 1 record affected.\n",
      "\n",
      "\n",
      "SELECT * FROM test.demo\n",
      "0 rows in set (0.173 secs)\n",
      "\n",
      "OK\n",
      "\n",
      "\n"
     ]
    }
   ],
   "source": [
    "# Insert a record in set \"demo\" in namsepace \"test\" with Primary Key (PK) 1 and a bin or field \"testbin\" \n",
    "# with value \"hello world!\". \n",
    "!aql -c \"INSERT INTO test.demo (PK, 'testbin') VALUES (1, 'hello world!')\"\n",
    "# View all records in the set.\n",
    "!aql -c \"SELECT * FROM test.demo\"\n",
    "# Delete the record\n",
    "!aql -c \"DELETE FROM test.demo WHERE PK = 1\"\n",
    "!aql -c \"SELECT * FROM test.demo\""
   ]
  },
  {
   "cell_type": "markdown",
   "metadata": {},
   "source": [
    "## View cluster state.\n",
    "Another useful utility is asadm which can be used to view various aspects of the database cluster. For a more complete description of its capabilities, see the [doc](https://www.aerospike.com/docs/tools/asadm/index.html)."
   ]
  },
  {
   "cell_type": "code",
   "execution_count": null,
   "metadata": {},
   "outputs": [
    {
     "name": "stdout",
     "output_type": "stream",
     "text": [
      "Seed:        [('127.0.0.1', 3000, None)]\n",
      "Config_file: /home/jovyan/.aerospike/astools.conf, /etc/aerospike/astools.conf\n",
      "\u001b[0m\u001b[1m~Features (2021-03-08 17:44:59 UTC)~\u001b[0m\n",
      "\u001b[0m\u001b[1mNODE           :   1fd218aa4d65:3000   \u001b[0m\n",
      "\u001b[0mAGGREGATION    :   YES                 \n",
      "\u001b[0mBATCH          :   YES                 \n",
      "\u001b[0mINDEX-ON-DEVICE:   NO                  \n",
      "\u001b[0mINDEX-ON-PMEM  :   NO                  \n",
      "\u001b[0mKVS            :   YES                 \n",
      "\u001b[0mLDT            :   NO                  \n",
      "\u001b[0mQUERY          :   YES                 \n",
      "\u001b[0mRACK-AWARE     :   NO                  \n",
      "\u001b[0mSC             :   NO                  \n",
      "\u001b[0mSCAN           :   YES                 \n",
      "\u001b[0mSECURITY       :   NO                  \n",
      "\u001b[0mSINDEX         :   NO                  \n",
      "\u001b[0mTLS (FABRIC)   :   NO                  \n",
      "\u001b[0mTLS (HEARTBEAT):   NO                  \n",
      "\u001b[0mTLS (SERVICE)  :   NO                  \n",
      "\u001b[0mUDF            :   YES                 \n",
      "\u001b[0mXDR DESTINATION:   NO                  \n",
      "\u001b[0mXDR SOURCE     :   NO                  \n",
      "\n"
     ]
    }
   ],
   "source": [
    "# Show the features enabled in this database.\n",
    "!asadm -e \"features\"\n",
    "# Display summary info for the cluster\n",
    "!asadm -e \"summary\"\n",
    "# View the config\n",
    "!asadm -e \"show config\""
   ]
  },
  {
   "cell_type": "markdown",
   "metadata": {},
   "source": [
    "## Next steps\n",
    "Visit [Aerospike notebooks repo](https://github.com/aerospike-examples/interactive-notebooks) to run additional Aerospike notebooks. To run a different notebook, download the notebook from the repo to your local machine, and then click on File->Open, and select Upload."
   ]
  }
 ],
 "metadata": {
  "file_extension": ".py",
  "kernelspec": {
   "display_name": "Python 3",
   "language": "python",
   "name": "python3"
  },
  "language_info": {
   "codemirror_mode": {
    "name": "ipython",
    "version": 3
   },
   "file_extension": ".py",
   "mimetype": "text/x-python",
   "name": "python",
   "nbconvert_exporter": "python",
   "pygments_lexer": "ipython3",
   "version": "3.8.6"
  },
  "mimetype": "text/x-python",
  "name": "python",
  "npconvert_exporter": "python",
  "pygments_lexer": "ipython3",
  "toc": {
   "base_numbering": 1,
   "nav_menu": {},
   "number_sections": true,
   "sideBar": true,
   "skip_h1_title": false,
   "title_cell": "Table of Contents",
   "title_sidebar": "Contents",
   "toc_cell": false,
   "toc_position": {},
   "toc_section_display": true,
   "toc_window_display": false
  },
  "version": 3
 },
 "nbformat": 4,
 "nbformat_minor": 2
}
