{
 "cells": [
  {
   "cell_type": "markdown",
   "metadata": {},
   "source": [
    "# Background Scan Operation\n",
    "\n",
    "How to run update operations on a namespace in background.\n",
    "This notebook requires Aerospike datbase running locally and that Java kernel has been installed. Visit [Aerospike notebooks repo](https://github.com/aerospike-examples/interactive-notebooks) for additional details and the docker container."
   ]
  },
  {
   "cell_type": "markdown",
   "metadata": {},
   "source": [
    "## Ensure database is running\n",
    "This notebook requires that Aerospike datbase is running."
   ]
  },
  {
   "cell_type": "code",
   "execution_count": 2,
   "metadata": {},
   "outputs": [],
   "source": [
    "import io.github.spencerpark.ijava.IJava;\n",
    "import io.github.spencerpark.jupyter.kernel.magic.common.Shell;\n",
    "IJava.getKernelInstance().getMagics().registerMagics(Shell.class);\n",
    "%sh asd"
   ]
  },
  {
   "cell_type": "markdown",
   "metadata": {
    "hide_input": false
   },
   "source": [
    "## Download Aerospike client from POM"
   ]
  },
  {
   "cell_type": "code",
   "execution_count": 3,
   "metadata": {},
   "outputs": [],
   "source": [
    "%%loadFromPOM\n",
    "<dependencies>\n",
    "  <dependency>\n",
    "    <groupId>com.aerospike</groupId>\n",
    "    <artifactId>aerospike-client</artifactId>\n",
    "    <version>5.0.0</version>\n",
    "  </dependency>\n",
    "</dependencies>"
   ]
  },
  {
   "cell_type": "markdown",
   "metadata": {},
   "source": [
    "## Initialize the client and populate test data\n",
    "\n",
    "Initialize the client and connect to the cluster. The configuration is for Aerospike database running on port 3000 of localhost which is the default. Modify config if your environment is different (Aerospike database running on a different host or different port).\n"
   ]
  },
  {
   "cell_type": "code",
   "execution_count": null,
   "metadata": {},
   "outputs": [],
   "source": [
    "import com.aerospike.client.AerospikeClient;\n",
    "import com.aerospike.client.policy.WritePolicy;\n",
    "import com.aerospike.client.Bin;\n",
    "import com.aerospike.client.Key;\n",
    "\n",
    "AerospikeClient client = new AerospikeClient(\"localhost\", 3000);\n",
    "System.out.println(\"Initialized the client and connected to the cluster.\");\n",
    "\n",
    "String Namespace = \"test\";\n",
    "String Set = \"background-scan-update\";\n",
    "\n",
    "// add records with keys \"id-1\" to \"id-10\" and \n",
    "//    bins bin1 (integer values 1-10) and bin2 (integer values 1000-1010).\n",
    "WritePolicy wpolicy = new WritePolicy();\n",
    "wpolicy.sendKey = true;\n",
    "for (int i = 1; i <= 10; i++) {\n",
    "    Key key = new Key(Namespace, Set, \"id-\"+i);\n",
    "    Bin bin1 = new Bin(new String(\"bin1\"), i);\n",
    "    Bin bin2 = new Bin(new String(\"bin2\"), 1000+i);\n",
    "    client.put(wpolicy, key, bin1, bin2);\n",
    "}\n",
    "System.out.format(\"Test data popuated.\\n\");;"
   ]
  },
  {
   "cell_type": "markdown",
   "metadata": {},
   "source": [
    "# Scan and Update Namespace\n",
    "Multi-record updates and deletes can be done in two ways:\n",
    "\n",
    "1. List of bin updates: A list of update operations can be specified, each operating on a bin. The list can be specified in two ways:\n",
    "   1. As part of the Statement object where the query (index) filter is also specified.\n",
    "   <pre>\n",
    "   Statement::setOps(Operation[] ops]\n",
    "   AerospikeClient::execute(WritePolicy policy, Statement statement)\n",
    "   </pre>\n",
    "   2. As an operation list parameter in the execute call.\n",
    "   <pre>\n",
    "   AerospikeClient::execute(WritePolicy policy, Statement statement, Operation[] ops)\n",
    "   </pre>\n",
    "2. User Defined Function (UDF): Record-oriented UDFs implement arbitrary logic in a Lua function that is registered with the server and invoked through an API call.\n",
    "   <pre>\n",
    "   ExecuteTask execute(WritePolicy policy, Statement statement, String packageName, String functionName,\n",
    "                                 Value... functionArgs)\n",
    "   </pre>"
   ]
  },
  {
   "cell_type": "code",
   "execution_count": 6,
   "metadata": {},
   "outputs": [],
   "source": [
    "import com.aerospike.client.AerospikeClient;\n",
    "import com.aerospike.client.policy.WritePolicy;\n",
    "import com.aerospike.client.Bin;\n",
    "import com.aerospike.client.Key;\n",
    "import com.aerospike.client.query.Statement;\n",
    "import com.aerospike.client.Operation;\n",
    "import com.aerospike.client.task.ExecuteTask;\n",
    "\n",
    "int POLL_INTERVAL_MS = 3000;\n",
    "int WAIT_TILL_COMPLETE_MS = 100000;\n",
    "\n",
    "enum ExecOption{STMT, EXEC_ARG, UDF};\n",
    "\n",
    "WritePolicy wpolicy = new WritePolicy();\n",
    "wpolicy.sendKey = true;\n",
    "wpolicy.maxRetries = 0;\n",
    "// specify TTL here\n",
    "wpolicy.expiration = -2;\n",
    "\n",
    "void scanAndUpdate(String seedNodeIp, String namespace, Operation[] ops, ExecOption option) {\n",
    "    System.out.format(\"Performing scan-and-update on namespace %s with option %s.\\n\", namespace, option);\n",
    "    AerospikeClient client = new AerospikeClient(seedNodeIp, 3000);\n",
    "    Statement stmt = new Statement();\n",
    "    ExecuteTask task;\n",
    "    stmt.setNamespace(namespace);\n",
    "    switch(option) {\n",
    "        case STMT:\n",
    "            stmt.setOperations(ops);\n",
    "            task = client.execute(wpolicy, stmt); \n",
    "            task.waitTillComplete(POLL_INTERVAL_MS, WAIT_TILL_COMPLETE_MS);\n",
    "            break;\n",
    "      case EXEC_ARG:\n",
    "            task = client.execute(wpolicy, stmt, ops); \n",
    "            task.waitTillComplete(POLL_INTERVAL_MS, WAIT_TILL_COMPLETE_MS);\n",
    "            break;\n",
    "      case UDF:\n",
    "            // plug in UDFModule, UDFFunction (assumes you have registered the module separately)\n",
    "            //task = client.execute(wpolicy, stmt, \"UDFModule\", \"UDFFunction\"); \n",
    "            //task.waitTillComplete(POLL_INTERVAL_MS, WAIT_TILL_COMPLETE_MS);\n",
    "            break;\n",
    "      default:\n",
    "            System.out.format(\"Error: wrong ExecOption\\n\");\n",
    "    }\n",
    "    client.close();\n",
    "    System.out.format(\"Scan-and-update done.\\n\");;\n",
    "}"
   ]
  },
  {
   "cell_type": "code",
   "execution_count": 7,
   "metadata": {},
   "outputs": [
    {
     "name": "stdout",
     "output_type": "stream",
     "text": [
      "Performing scan-and-update on namespace test with option STMT.\n",
      "Scan-and-update done.\n",
      "Performing scan-and-update on namespace test with option EXEC_ARG.\n",
      "Scan-and-update done.\n",
      "Performing scan-and-update on namespace test with option UDF.\n",
      "Scan-and-update done.\n"
     ]
    }
   ],
   "source": [
    "String seedNode = \"127.0.0.1\";\n",
    "String namespace = \"test\";\n",
    "\n",
    "Operation ops[] = { Operation.touch() };\n",
    "scanAndUpdate(seedNode, namespace, ops, ExecOption.STMT);\n",
    "scanAndUpdate(seedNode, namespace, ops, ExecOption.EXEC_ARG);\n",
    "scanAndUpdate(seedNode, namespace, ops, ExecOption.UDF);"
   ]
  },
  {
   "cell_type": "markdown",
   "metadata": {},
   "source": [
    "## Clean up\n",
    "Finally close the client connection."
   ]
  },
  {
   "cell_type": "code",
   "execution_count": null,
   "metadata": {},
   "outputs": [],
   "source": [
    "client.truncate(null, Namespace, null, null);\n",
    "client.close();\n",
    "System.out.println(\"Removed tutorial data and closed server connection.\");"
   ]
  },
  {
   "cell_type": "markdown",
   "metadata": {},
   "source": [
    "## Next steps\n",
    "\n",
    "Visit [Aerospike notebooks repo](https://github.com/aerospike-examples/interactive-notebooks) to run additional Aerospike notebooks. To run a different notebook, download the notebook from the repo to your local machine, and then click on File->Open, and select Upload."
   ]
  }
 ],
 "metadata": {
  "kernelspec": {
   "display_name": "Java",
   "language": "java",
   "name": "java"
  },
  "language_info": {
   "codemirror_mode": "java",
   "file_extension": ".jshell",
   "mimetype": "text/x-java-source",
   "name": "Java",
   "pygments_lexer": "java",
   "version": "11.0.8+10-LTS"
  },
  "toc": {
   "base_numbering": 1,
   "nav_menu": {},
   "number_sections": true,
   "sideBar": true,
   "skip_h1_title": false,
   "title_cell": "Table of Contents",
   "title_sidebar": "Contents",
   "toc_cell": false,
   "toc_position": {},
   "toc_section_display": true,
   "toc_window_display": false
  }
 },
 "nbformat": 4,
 "nbformat_minor": 2
}
