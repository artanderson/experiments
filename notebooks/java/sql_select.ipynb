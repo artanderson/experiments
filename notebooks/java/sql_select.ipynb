{
 "cells": [
  {
   "cell_type": "markdown",
   "metadata": {
    "toc": true
   },
   "source": [
    "<h1>Table of Contents<span class=\"tocSkip\"></span></h1>\n",
    "<div class=\"toc\"><ul class=\"toc-item\"><li><span><a href=\"#Implementing-SQL-Operations:-Select\" data-toc-modified-id=\"Implementing-SQL-Operations:-Select-1\"><span class=\"toc-item-num\">1&nbsp;&nbsp;</span>Implementing SQL Operations: Select</a></span><ul class=\"toc-item\"><li><span><a href=\"#Introduction\" data-toc-modified-id=\"Introduction-1.1\"><span class=\"toc-item-num\">1.1&nbsp;&nbsp;</span>Introduction</a></span></li><li><span><a href=\"#Prerequisites\" data-toc-modified-id=\"Prerequisites-1.2\"><span class=\"toc-item-num\">1.2&nbsp;&nbsp;</span>Prerequisites</a></span></li><li><span><a href=\"#Initialization\" data-toc-modified-id=\"Initialization-1.3\"><span class=\"toc-item-num\">1.3&nbsp;&nbsp;</span>Initialization</a></span><ul class=\"toc-item\"><li><span><a href=\"#Ensure-database-is-running\" data-toc-modified-id=\"Ensure-database-is-running-1.3.1\"><span class=\"toc-item-num\">1.3.1&nbsp;&nbsp;</span>Ensure database is running</a></span></li><li><span><a href=\"#Download-and-install-additional-components.\" data-toc-modified-id=\"Download-and-install-additional-components.-1.3.2\"><span class=\"toc-item-num\">1.3.2&nbsp;&nbsp;</span>Download and install additional components.</a></span></li></ul></li><li><span><a href=\"#Connect-to-database-and-populate-test-data\" data-toc-modified-id=\"Connect-to-database-and-populate-test-data-1.4\"><span class=\"toc-item-num\">1.4&nbsp;&nbsp;</span>Connect to database and populate test data</a></span><ul class=\"toc-item\"><li><span><a href=\"#Create-a-secondary-index\" data-toc-modified-id=\"Create-a-secondary-index-1.4.1\"><span class=\"toc-item-num\">1.4.1&nbsp;&nbsp;</span>Create a secondary index</a></span></li></ul></li></ul></li><li><span><a href=\"#Mapping-Components-of-Select-Statement\" data-toc-modified-id=\"Mapping-Components-of-Select-Statement-2\"><span class=\"toc-item-num\">2&nbsp;&nbsp;</span>Mapping Components of Select Statement</a></span></li><li><span><a href=\"#Single-Record-Get\" data-toc-modified-id=\"Single-Record-Get-3\"><span class=\"toc-item-num\">3&nbsp;&nbsp;</span>Single Record Get</a></span></li><li><span><a href=\"#Batch-Retrieval\" data-toc-modified-id=\"Batch-Retrieval-4\"><span class=\"toc-item-num\">4&nbsp;&nbsp;</span>Batch Retrieval</a></span></li><li><span><a href=\"#Predicate-Based-Retrieval\" data-toc-modified-id=\"Predicate-Based-Retrieval-5\"><span class=\"toc-item-num\">5&nbsp;&nbsp;</span>Predicate Based Retrieval</a></span><ul class=\"toc-item\"><li><span><a href=\"#Query-Based-on-Index\" data-toc-modified-id=\"Query-Based-on-Index-5.1\"><span class=\"toc-item-num\">5.1&nbsp;&nbsp;</span>Query Based on Index</a></span></li><li><span><a href=\"#Query-Based-on-Expression-Filter\" data-toc-modified-id=\"Query-Based-on-Expression-Filter-5.2\"><span class=\"toc-item-num\">5.2&nbsp;&nbsp;</span>Query Based on Expression Filter</a></span></li><li><span><a href=\"#Scan-Based-on-Expression-Filter\" data-toc-modified-id=\"Scan-Based-on-Expression-Filter-5.3\"><span class=\"toc-item-num\">5.3&nbsp;&nbsp;</span>Scan Based on Expression Filter</a></span></li></ul></li><li><span><a href=\"#Computed-Fields-with-Server-Function\" data-toc-modified-id=\"Computed-Fields-with-Server-Function-6\"><span class=\"toc-item-num\">6&nbsp;&nbsp;</span>Computed Fields with Server Function</a></span></li><li><span><a href=\"#Takeaways-and-Conclusion\" data-toc-modified-id=\"Takeaways-and-Conclusion-7\"><span class=\"toc-item-num\">7&nbsp;&nbsp;</span>Takeaways and Conclusion</a></span></li><li><span><a href=\"#Clean-up\" data-toc-modified-id=\"Clean-up-8\"><span class=\"toc-item-num\">8&nbsp;&nbsp;</span>Clean up</a></span></li><li><span><a href=\"#Further-Exploration-and-Resources\" data-toc-modified-id=\"Further-Exploration-and-Resources-9\"><span class=\"toc-item-num\">9&nbsp;&nbsp;</span>Further Exploration and Resources</a></span><ul class=\"toc-item\"><li><span><a href=\"#Next-steps\" data-toc-modified-id=\"Next-steps-9.1\"><span class=\"toc-item-num\">9.1&nbsp;&nbsp;</span>Next steps</a></span></li></ul></li></ul></div>"
   ]
  },
  {
   "cell_type": "markdown",
   "metadata": {},
   "source": [
    "# Implementing SQL Operations: Select\n",
    "This tutorial describes how to implement certain SQL's Select statements in Aerospike.\n",
    "\n",
    "This notebook requires Aerospike datbase running on localhost and that python and the Aerospike python client have been installed (`pip install aerospike`). Visit [Aerospike notebooks repo](https://github.com/aerospike-examples/interactive-notebooks) for additional details and the docker container."
   ]
  },
  {
   "cell_type": "markdown",
   "metadata": {},
   "source": [
    "## Introduction\n",
    "In this notebook, we will see how specific Select statements in SQL can be implemented in Aerospike. \n",
    "\n",
    "SQL is widely known data access language. If you have used SQL in the past, the examples in this notebook will make it easy to translate specific SQL Select statements. \n",
    "\n",
    "This notebook is the first in the SQL Operations series that consists of the following topics:\n",
    "- Implementing SQL Operations: Select\n",
    "- Implementing SQL Operations: Update\n",
    "- Implementing SQL Operations: Create and Delete\n",
    "- Implementing SQL Operations: Aggregates\n",
    "\n",
    "The specific topics and SQL Select statements we will discuss include:\n",
    "- Columns, tables, and predicates\n",
    "- Single record: Select binNames from namespace.set where id = key\n",
    "- Batch retrieval: Select binNames from namespace.set where id in key-list\n",
    "- Predicate based retrival: Select binNames from namespace.set where predicate\n",
    "    - Index based query\n",
    "    - Expression based query\n",
    "    - Expression based scan\n",
    "- Computed fields: Select function(\\*) from namespace.set where id = key\n",
    "\n",
    "Aerospike provides both synchronous and asynchronous execution modes for many operations. In this notebook, we will use mostly synchronous execution mode. Asynchronous execution is a topic for a future tutorial."
   ]
  },
  {
   "cell_type": "markdown",
   "metadata": {},
   "source": [
    "## Prerequisites\n",
    "This tutorial assumes familiarity with the following topics:\n",
    "- [Hello World](hello_world.ipynb)\n",
    "- [Aerospike Basic Operations](basic_operations.ipynb)"
   ]
  },
  {
   "cell_type": "markdown",
   "metadata": {},
   "source": [
    "## Initialization"
   ]
  },
  {
   "cell_type": "markdown",
   "metadata": {},
   "source": [
    "### Ensure database is running\n",
    "This notebook requires that Aerospike datbase is running. \n",
    "[Include the right code cell for Java or Python from the two cells below.] "
   ]
  },
  {
   "cell_type": "code",
   "execution_count": 35,
   "metadata": {
    "ExecuteTime": {
     "end_time": "2020-12-29T20:48:49.065421Z",
     "start_time": "2020-12-29T20:48:49.060897Z"
    }
   },
   "outputs": [],
   "source": [
    "import io.github.spencerpark.ijava.IJava;\n",
    "import io.github.spencerpark.jupyter.kernel.magic.common.Shell;\n",
    "IJava.getKernelInstance().getMagics().registerMagics(Shell.class);\n",
    "%sh asd"
   ]
  },
  {
   "cell_type": "markdown",
   "metadata": {},
   "source": [
    "### Download and install additional components.\n",
    "Install the Java client."
   ]
  },
  {
   "cell_type": "code",
   "execution_count": 36,
   "metadata": {
    "ExecuteTime": {
     "end_time": "2020-12-29T20:48:50.084636Z",
     "start_time": "2020-12-29T20:48:50.080629Z"
    }
   },
   "outputs": [],
   "source": [
    "%%loadFromPOM\n",
    "<dependencies>\n",
    "  <dependency>\n",
    "    <groupId>com.aerospike</groupId>\n",
    "    <artifactId>aerospike-client</artifactId>\n",
    "    <version>5.0.0</version>\n",
    "  </dependency>\n",
    "</dependencies>"
   ]
  },
  {
   "cell_type": "markdown",
   "metadata": {},
   "source": [
    "## Connect to database and populate test data\n",
    "The test data has ten records with user-key \"id-1\" through \"id-10\", two bins (fields) \"bin1\" and \"bin2\", in the namespace \"test\" and sets \"sql-select-small\"and null, and similarly structured 1000 records in set \"sql-select-large\". "
   ]
  },
  {
   "cell_type": "code",
   "execution_count": 37,
   "metadata": {
    "ExecuteTime": {
     "end_time": "2020-12-29T20:48:50.771243Z",
     "start_time": "2020-12-29T20:48:50.767819Z"
    }
   },
   "outputs": [
    {
     "name": "stdout",
     "output_type": "stream",
     "text": [
      "Initialized the client and connected to the cluster.\n",
      "Test data popuated"
     ]
    },
    {
     "data": {
      "text/plain": [
       "java.io.PrintStream@731fdcb9"
      ]
     },
     "execution_count": 37,
     "metadata": {},
     "output_type": "execute_result"
    }
   ],
   "source": [
    "import com.aerospike.client.AerospikeClient;\n",
    "import com.aerospike.client.Bin;\n",
    "import com.aerospike.client.Key;\n",
    "import com.aerospike.client.policy.ClientPolicy;\n",
    "\n",
    "AerospikeClient client = new AerospikeClient(\"localhost\", 3000);\n",
    "System.out.println(\"Initialized the client and connected to the cluster.\");\n",
    "\n",
    "String Namespace = \"test\";\n",
    "String SmallSet = \"sql-select-small\";\n",
    "String LargeSet = \"sql-select-large\";\n",
    "String NullSet = \"\";\n",
    "\n",
    "ClientPolicy policy = new ClientPolicy();\n",
    "for (int i = 1; i <= 10; i++) {\n",
    "    Key key = new Key(Namespace, SmallSet, \"id-\"+i);\n",
    "    Bin bin1 = new Bin(new String(\"bin1\"), i);\n",
    "    Bin bin2 = new Bin(new String(\"bin2\"), 1000+i);\n",
    "    client.put(policy.writePolicyDefault, key, bin1, bin2);\n",
    "}\n",
    "for (int i = 1; i <= 10; i++) {\n",
    "    Key key = new Key(Namespace, NullSet, \"id-\"+i);\n",
    "    Bin bin1 = new Bin(new String(\"bin1\"), i);\n",
    "    Bin bin2 = new Bin(new String(\"bin2\"), 1000+i);\n",
    "    client.put(policy.writePolicyDefault, key, bin1, bin2);\n",
    "}\n",
    "for (int i = 1; i <= 1000; i++) {\n",
    "    Key key = new Key(Namespace, LargeSet, \"id-\"+i);\n",
    "    Bin bin1 = new Bin(new String(\"bin1\"), i);\n",
    "    Bin bin2 = new Bin(new String(\"bin2\"), 1000+i);\n",
    "    client.put(policy.writePolicyDefault, key, bin1, bin2);\n",
    "}\n",
    "\n",
    "System.out.format(\"Test data popuated\");"
   ]
  },
  {
   "cell_type": "markdown",
   "metadata": {},
   "source": [
    "### Create a secondary index\n",
    "To use the query API, a secondary index must exist on the query field. We create a numeric index on \"bin1\" in \"sql-select-small\" set."
   ]
  },
  {
   "cell_type": "code",
   "execution_count": 38,
   "metadata": {
    "ExecuteTime": {
     "end_time": "2020-12-29T20:48:53.066005Z",
     "start_time": "2020-12-29T20:48:53.061118Z"
    }
   },
   "outputs": [
    {
     "name": "stdout",
     "output_type": "stream",
     "text": [
      "Created index test_small_bin1_number_idx on ns=test set=sql-select-small bin=bin1."
     ]
    },
    {
     "data": {
      "text/plain": [
       "java.io.PrintStream@731fdcb9"
      ]
     },
     "execution_count": 38,
     "metadata": {},
     "output_type": "execute_result"
    }
   ],
   "source": [
    "import com.aerospike.client.policy.Policy;\n",
    "import com.aerospike.client.query.IndexType;\n",
    "import com.aerospike.client.task.IndexTask;\n",
    "import com.aerospike.client.AerospikeException;\n",
    "import com.aerospike.client.ResultCode;\n",
    "\n",
    "String IndexName = \"test_small_bin1_number_idx\";\n",
    "\n",
    "Policy policy = new Policy();\n",
    "policy.socketTimeout = 0; // Do not timeout on index create.\n",
    "\n",
    "try {\n",
    "    IndexTask task = client.createIndex(policy, Namespace, SmallSet, IndexName, \n",
    "                                        \"bin1\", IndexType.NUMERIC);\n",
    "    task.waitTillComplete();\n",
    "}\n",
    "catch (AerospikeException ae) {\n",
    "    if (ae.getResultCode() != ResultCode.INDEX_ALREADY_EXISTS) {\n",
    "        throw ae;\n",
    "    }\n",
    "}\n",
    "\n",
    "System.out.format(\"Created index %s on ns=%s set=%s bin=%s.\", \n",
    "                                    IndexName, Namespace, SmallSet, \"bin1\");"
   ]
  },
  {
   "cell_type": "markdown",
   "metadata": {},
   "source": [
    "# Mapping Components of Select Statement\n",
    "**Columns, tables, and predicates**\n",
    "\n",
    "In Aerospike, a relational database or schema maps to a namespace, a table maps to a set, a column maps to a bin. Thus a query \"select columns from table where predicate\" can be written in Aerospike terminology as \"select bins from namespace.set where predicate\".\n",
    "\n",
    "**Record id**\n",
    "\n",
    "Records are stored in a namespace, organized in sets, and each record is uniquely identfied by a key or id of the record that consists of a triple: (namespce, set, user-key) where user-key is a unique id within the set. Since the key is always identified with a record, it can be considered as a metadata or the primary key field, and is returned in all retrieval APIs.\n",
    "\n",
    "**A word on Policy**: All APIs take a Policy argument. A policy contains many request parameters such as the timeout and maximum retries, as well as operations modifiers such as an expression filter. "
   ]
  },
  {
   "cell_type": "markdown",
   "metadata": {},
   "source": [
    "# Single Record Get\n",
    "**Select bins from namespace.set where id = key**\n",
    "\n",
    "Let's start with a simple example of a single record retrieval using its key. You can either get the entire record or specific bins.\n",
    "\n",
    "Select * from namespace.set where id = key\n",
    "- Record Client::get(Policy policy, Key key)\n",
    "\n",
    "Select binNames from namsepace.set where id = key\n",
    "- Record Client::get(Policy policy, Key key, String... binNames)"
   ]
  },
  {
   "cell_type": "markdown",
   "metadata": {},
   "source": [
    "# Batch Retrieval\n",
    "**Select column-list from table where id in key-list**\n",
    "\n",
    "A batch operations operates on a list of records idenfied by the keys provided. This works similar to a single record retrieval, except multiple keys are specified.\n",
    "\n",
    "**Select * from namespace.set where id in key-list**\n",
    "- Record[] get(BatchPolicy policy, Key[] keys)\n",
    "\n",
    "**Select binNames from namespace.set where id in key-list**\n",
    "- Record[] get(BatchPolicy policy, Key[] keys, String... binNames)\n",
    "\n",
    "A more general form of batch reads is also available that provides a union of simple batch results. It populates the argument records on return.\n",
    "\n",
    "**Select (select binNames from namespace1.set1 where id in key-list) union ((select binNames from namespace2.set2 where id in key-list) ...**\n",
    "- void get(BatchPolicy policy, List\\<BatchRead\\> records)\n"
   ]
  },
  {
   "cell_type": "markdown",
   "metadata": {},
   "source": [
    "# Predicate Based Retrieval\n",
    "In these operations, records matching a general predicate (filter) are retrieved.\n",
    "\n",
    "**Select binNames from namespace.set where predicate**\n",
    "\n",
    "There are multiple ways of performing such a query in Aerospike.\n",
    "- Query using an index and/or expression filter\n",
    "- Scan using an expression filter\n",
    "\n",
    "To leverage an index, one must use a query operation. A query allows using both an index predicate and an expression filter. An expression filter may be used in place of an \"index predicate\", but it will not perform as well. While using only an expression filter, either a query or a scan may be used. An expression filter is specified in the policy, and is generally applicable to filter records beyond query and scan. "
   ]
  },
  {
   "cell_type": "markdown",
   "metadata": {},
   "source": [
    "## Query Based on Index\n",
    "Record[] query(QueryPolicy policy, Statement statement)"
   ]
  },
  {
   "cell_type": "markdown",
   "metadata": {},
   "source": [
    "## Query Based on Expression Filter\n",
    "Record[] query(QueryPolicy policy, Statement statement)"
   ]
  },
  {
   "cell_type": "markdown",
   "metadata": {},
   "source": [
    "## Scan Based on Expression Filter\n",
    "The scan operation takes a callback object which is called for every record in the result.\n",
    "\n",
    "void scanAll(ScanPolicy policy, String namespace, String setName, ScanCallback callback, String... binNames)"
   ]
  },
  {
   "cell_type": "markdown",
   "metadata": {},
   "source": [
    "# Computed Fields with Server Function\n",
    "This is a single record retrieval operation. An arbitrary function registed on the server (UDF) is invoked on a specified record. The API returns a generic Object which can be anything like a single value or a dictionary.\n",
    "\n",
    "**Select function(\\*) from namespace.set where id = key**\n",
    "- Object execute(WritePolicy policy, Key key, String packageName, String functionName, Value... functionArgs)"
   ]
  },
  {
   "cell_type": "markdown",
   "metadata": {},
   "source": [
    "# Takeaways and Conclusion\n",
    "Many developers that are familiar with SQL would like to see how SQL operations translate to Aeropsike. In this tutorial, we looked at how to implement various Select statements. This should prove generally useful irrespective of SQL knowledge. While the examples here are synchronous execution, most can also be performed asynchronously."
   ]
  },
  {
   "cell_type": "markdown",
   "metadata": {},
   "source": [
    "# Clean up\n",
    "Remove tutorial data and close connection."
   ]
  },
  {
   "cell_type": "code",
   "execution_count": 39,
   "metadata": {
    "ExecuteTime": {
     "end_time": "2020-12-29T20:49:19.972650Z",
     "start_time": "2020-12-29T20:49:19.967344Z"
    }
   },
   "outputs": [
    {
     "name": "stdout",
     "output_type": "stream",
     "text": [
      "Removed tutorial data and server connection closed.\n"
     ]
    }
   ],
   "source": [
    "client.dropIndex(null, Namespace, SmallSet, IndexName);\n",
    "client.truncate(null, Namespace, null, null);\n",
    "client.close();\n",
    "System.out.println(\"Removed tutorial data and server connection closed.\");"
   ]
  },
  {
   "cell_type": "markdown",
   "metadata": {},
   "source": [
    "# Further Exploration and Resources\n",
    "Here are some links for further exploration\n",
    "\n",
    "Resources\n",
    "- Related notebooks\n",
    "    - [Queries](https://github.com/aerospike/aerospike-dev-notebooks.docker/blob/main/notebooks/python/query.ipynb)\n",
    "- Developer Hub\n",
    "    - [Java Developers Resources](https://developer.aerospike.com/java-developers)\n",
    "- Github repos\n",
    "    - [Java code examples](https://github.com/aerospike/aerospike-client-java/tree/master/examples/src/com/aerospike/examples)\n",
    "- Documentation\n",
    "    - [Java Client](https://www.aerospike.com/docs/client/java/index.html)\n",
    "    - [Java API Reference](https://www.aerospike.com/apidocs/java/)"
   ]
  },
  {
   "cell_type": "markdown",
   "metadata": {},
   "source": [
    "## Next steps\n",
    "\n",
    "Visit [Aerospike notebooks repo](https://github.com/aerospike-examples/interactive-notebooks) to run additional Aerospike notebooks. To run a different notebook, download the notebook from the repo to your local machine, and then click on File->Open, and select Upload."
   ]
  }
 ],
 "metadata": {
  "kernelspec": {
   "display_name": "Java",
   "language": "java",
   "name": "java"
  },
  "language_info": {
   "codemirror_mode": "java",
   "file_extension": ".jshell",
   "mimetype": "text/x-java-source",
   "name": "Java",
   "pygments_lexer": "java",
   "version": "11.0.8+10-LTS"
  },
  "toc": {
   "base_numbering": 1,
   "nav_menu": {},
   "number_sections": true,
   "sideBar": true,
   "skip_h1_title": false,
   "title_cell": "Table of Contents",
   "title_sidebar": "Contents",
   "toc_cell": true,
   "toc_position": {},
   "toc_section_display": true,
   "toc_window_display": false
  }
 },
 "nbformat": 4,
 "nbformat_minor": 4
}
