{
 "cells": [
  {
   "cell_type": "markdown",
   "metadata": {
    "toc": true
   },
   "source": [
    "<h1>Table of Contents<span class=\"tocSkip\"></span></h1>\n",
    "<div class=\"toc\"><ul class=\"toc-item\"><li><span><a href=\"#Forum-Issue-8523\" data-toc-modified-id=\"Forum-Issue-8523-1\"><span class=\"toc-item-num\">1&nbsp;&nbsp;</span>Forum Issue 8523</a></span><ul class=\"toc-item\"><li><span><a href=\"#Prerequisites\" data-toc-modified-id=\"Prerequisites-1.1\"><span class=\"toc-item-num\">1.1&nbsp;&nbsp;</span>Prerequisites</a></span></li><li><span><a href=\"#Initialization\" data-toc-modified-id=\"Initialization-1.2\"><span class=\"toc-item-num\">1.2&nbsp;&nbsp;</span>Initialization</a></span><ul class=\"toc-item\"><li><span><a href=\"#Ensure-database-is-running\" data-toc-modified-id=\"Ensure-database-is-running-1.2.1\"><span class=\"toc-item-num\">1.2.1&nbsp;&nbsp;</span>Ensure database is running</a></span></li><li><span><a href=\"#Download-and-install-additional-components.\" data-toc-modified-id=\"Download-and-install-additional-components.-1.2.2\"><span class=\"toc-item-num\">1.2.2&nbsp;&nbsp;</span>Download and install additional components.</a></span></li></ul></li><li><span><a href=\"#Connect-to-database-and-populate-test-data\" data-toc-modified-id=\"Connect-to-database-and-populate-test-data-1.3\"><span class=\"toc-item-num\">1.3&nbsp;&nbsp;</span>Connect to database and populate test data</a></span></li><li><span><a href=\"#Open-a-Terminal-Tab\" data-toc-modified-id=\"Open-a-Terminal-Tab-1.4\"><span class=\"toc-item-num\">1.4&nbsp;&nbsp;</span>Open a Terminal Tab</a></span></li></ul></li><li><span><a href=\"#The-Problem:-No-Error-for-Non-Existent-UDF\" data-toc-modified-id=\"The-Problem:-No-Error-for-Non-Existent-UDF-2\"><span class=\"toc-item-num\">2&nbsp;&nbsp;</span>The Problem: No Error for Non-Existent UDF</a></span></li><li><span><a href=\"#Create-UDF\" data-toc-modified-id=\"Create-UDF-3\"><span class=\"toc-item-num\">3&nbsp;&nbsp;</span>Create UDF</a></span></li><li><span><a href=\"#Register-UDF\" data-toc-modified-id=\"Register-UDF-4\"><span class=\"toc-item-num\">4&nbsp;&nbsp;</span>Register UDF</a></span></li><li><span><a href=\"#Execute-UDF-(Works-as-Expected)\" data-toc-modified-id=\"Execute-UDF-(Works-as-Expected)-5\"><span class=\"toc-item-num\">5&nbsp;&nbsp;</span>Execute UDF (Works as Expected)</a></span></li><li><span><a href=\"#Register-Again---Without-Change\" data-toc-modified-id=\"Register-Again---Without-Change-6\"><span class=\"toc-item-num\">6&nbsp;&nbsp;</span>Register Again - Without Change</a></span></li><li><span><a href=\"#Register-Again---With-Change\" data-toc-modified-id=\"Register-Again---With-Change-7\"><span class=\"toc-item-num\">7&nbsp;&nbsp;</span>Register Again - With Change</a></span></li><li><span><a href=\"#Clean-up\" data-toc-modified-id=\"Clean-up-8\"><span class=\"toc-item-num\">8&nbsp;&nbsp;</span>Clean up</a></span></li><li><span><a href=\"#Further-Exploration-and-Resources\" data-toc-modified-id=\"Further-Exploration-and-Resources-9\"><span class=\"toc-item-num\">9&nbsp;&nbsp;</span>Further Exploration and Resources</a></span></li><li><span><a href=\"#Next-steps\" data-toc-modified-id=\"Next-steps-10\"><span class=\"toc-item-num\">10&nbsp;&nbsp;</span>Next steps</a></span></li></ul></div>"
   ]
  },
  {
   "cell_type": "markdown",
   "metadata": {},
   "source": [
    "# Forum Issue 8523\n",
    "Here is the link to the [Forum Issue](https://discuss.aerospike.com/t/calling-non-existent-udf-module-doesnt-throw-error/8523).\n",
    "This notebook requires Aerospike datbase running on localhost. Visit [Aerospike notebooks repo](https://github.com/aerospike-examples/interactive-notebooks) for additional details and the docker container."
   ]
  },
  {
   "cell_type": "markdown",
   "metadata": {},
   "source": [
    "## Prerequisites\n",
    "This tutorial assumes familiarity with the following topics:\n",
    "- [Aerospike Notebooks - Readme and Tips](../readme_tips.ipynb)\n",
    "- [Hello World](hello_world.ipynb)"
   ]
  },
  {
   "cell_type": "markdown",
   "metadata": {},
   "source": [
    "## Initialization"
   ]
  },
  {
   "cell_type": "markdown",
   "metadata": {},
   "source": [
    "### Ensure database is running\n",
    "This notebook requires that Aerospike datbase is running. "
   ]
  },
  {
   "cell_type": "code",
   "execution_count": 1,
   "metadata": {
    "ExecuteTime": {
     "end_time": "2020-12-29T20:48:49.065421Z",
     "start_time": "2020-12-29T20:48:49.060897Z"
    }
   },
   "outputs": [],
   "source": [
    "import io.github.spencerpark.ijava.IJava;\n",
    "import io.github.spencerpark.jupyter.kernel.magic.common.Shell;\n",
    "IJava.getKernelInstance().getMagics().registerMagics(Shell.class);\n",
    "%sh asd"
   ]
  },
  {
   "cell_type": "markdown",
   "metadata": {},
   "source": [
    "### Download and install additional components.\n",
    "Install the Java client."
   ]
  },
  {
   "cell_type": "code",
   "execution_count": 2,
   "metadata": {
    "ExecuteTime": {
     "end_time": "2020-12-29T20:48:50.084636Z",
     "start_time": "2020-12-29T20:48:50.080629Z"
    }
   },
   "outputs": [],
   "source": [
    "%%loadFromPOM\n",
    "<dependencies>\n",
    "  <dependency>\n",
    "    <groupId>com.aerospike</groupId>\n",
    "    <artifactId>aerospike-client</artifactId>\n",
    "    <version>5.0.0</version>\n",
    "  </dependency>\n",
    "</dependencies>"
   ]
  },
  {
   "cell_type": "markdown",
   "metadata": {},
   "source": [
    "## Connect to database and populate test data\n",
    "The test data has 10 records with user-key \"id-1\" through \"id-10\", two bins (fields) \"bin1\" (1-10) and \"bin2\" (\"1001\"-\"1010\") in the namespace \"test\" and set \"forum-8523\". "
   ]
  },
  {
   "cell_type": "code",
   "execution_count": 3,
   "metadata": {
    "ExecuteTime": {
     "end_time": "2020-12-29T20:48:50.771243Z",
     "start_time": "2020-12-29T20:48:50.767819Z"
    }
   },
   "outputs": [
    {
     "name": "stdout",
     "output_type": "stream",
     "text": [
      "Initialized the client and connected to the cluster.\n",
      "Inserted 10 records in ns=test set=forum-8523.\n"
     ]
    },
    {
     "data": {
      "text/plain": [
       "java.io.PrintStream@243f7748"
      ]
     },
     "execution_count": 3,
     "metadata": {},
     "output_type": "execute_result"
    }
   ],
   "source": [
    "import com.aerospike.client.AerospikeClient;\n",
    "import com.aerospike.client.Bin;\n",
    "import com.aerospike.client.Key;\n",
    "import com.aerospike.client.policy.WritePolicy;\n",
    "\n",
    "AerospikeClient client = new AerospikeClient(\"localhost\", 3000);\n",
    "System.out.println(\"Initialized the client and connected to the cluster.\");\n",
    "\n",
    "String Namespace = \"test\";\n",
    "String Set = \"forum-8523\";\n",
    "\n",
    "WritePolicy wpolicy = new WritePolicy();\n",
    "wpolicy.sendKey = true;\n",
    "for (int i = 1; i <= 10; i++) {\n",
    "    Key key = new Key(Namespace, Set, \"id-\"+i);\n",
    "    Bin bin1 = new Bin(new String(\"bin1\"), i);\n",
    "    Bin bin2 = new Bin(new String(\"bin2\"), 1000+i);\n",
    "    Bin bin3 = new Bin(new String(\"bin3\"), Integer.toString(1000+i));\n",
    "    client.put(wpolicy, key, bin1, bin2, bin3);\n",
    "}\n",
    "System.out.format(\"Inserted 10 records in ns=%s set=%s.\\n\", Namespace, Set);\n"
   ]
  },
  {
   "cell_type": "markdown",
   "metadata": {},
   "source": [
    "## Open a Terminal Tab\n",
    "In this tutorial, you will be executing many shell commands including Aerospike tools like adadm and aql in a terminal. Open a terminal tab by selecting File->Open from the notebook menu, and then New->Terminal."
   ]
  },
  {
   "cell_type": "markdown",
   "metadata": {},
   "source": [
    "# The Problem: No Error for Non-Existent UDF \n",
    "No exception is generated for a non-existent UDF."
   ]
  },
  {
   "cell_type": "code",
   "execution_count": 4,
   "metadata": {},
   "outputs": [],
   "source": [
    "import com.aerospike.client.query.Statement;\n",
    "import com.aerospike.client.query.Filter;\n",
    "import com.aerospike.client.exp.Exp;\n",
    "import com.aerospike.client.task.ExecuteTask;\n",
    "import com.aerospike.client.Value;\n",
    "import com.aerospike.client.lua.LuaCache;\n",
    "\n",
    "Statement stmt = new Statement();\n",
    "stmt.setNamespace(Namespace);\n",
    "stmt.setSetName(Set);\n",
    "WritePolicy policy = new WritePolicy();\n",
    "policy.filterExp = Exp.build(\n",
    "    Exp.and(\n",
    "        Exp.ge(Exp.intBin(\"bin1\"), Exp.val(4)),\n",
    "        Exp.le(Exp.intBin(\"bin1\"), Exp.val(7))));\n",
    "policy.maxRetries = 0;\n",
    "\n",
    "ExecuteTask task = client.execute(policy, stmt, \"NonExistent\", \"doesnt_exist\",\n",
    "                                 Value.get(\"bin2\"), Value.get(1), Value.get(\"bin3\"), Value.get(\"xo\")); \n",
    "task.waitTillComplete(3000, 3000);"
   ]
  },
  {
   "cell_type": "markdown",
   "metadata": {},
   "source": [
    "Examine the logs in the terminal tab. No error is logged.\n",
    "<pre>\n",
    "tail -20 /opt/aerospike/aerospike.log\n",
    "</pre>"
   ]
  },
  {
   "cell_type": "markdown",
   "metadata": {},
   "source": [
    "# Create UDF\n",
    "Examine the following Lua code that updates two bins by adding and appending the values provided. \n",
    "<pre>\n",
    "-- update the specified bins by adding and appending the values provided\n",
    "function add_append(rec, binName1, addVal, binName2, appendVal)\n",
    "    rec[binName1] = rec[binName1] + addVal\n",
    "    rec[binName2] = rec[binName2] .. appendVal\n",
    "    aerospike:update(rec)\n",
    "end\n",
    "</pre>"
   ]
  },
  {
   "cell_type": "markdown",
   "metadata": {},
   "source": [
    "# Register UDF\n",
    "Note, the UDF function is expected to be in \"update_example.lua\" file under \"udf\" directory.\n",
    "\n",
    "Register the UDF with the server by executing the following code cell. The function invalidates the cache, removes the currently registered module, and registers the latest version."
   ]
  },
  {
   "cell_type": "code",
   "execution_count": 5,
   "metadata": {},
   "outputs": [
    {
     "name": "stdout",
     "output_type": "stream",
     "text": [
      "Registered the UDF module update_example.lua."
     ]
    }
   ],
   "source": [
    "import com.aerospike.client.policy.Policy;\n",
    "import com.aerospike.client.task.RegisterTask;\n",
    "import com.aerospike.client.Language;\n",
    "import com.aerospike.client.lua.LuaConfig;\n",
    "import com.aerospike.client.lua.LuaCache;\n",
    "\n",
    "LuaConfig.SourceDirectory = \"../udf\";\n",
    "String UDFModule = \"update_example\";\n",
    "String UDFFile = \"update_example.lua\";\n",
    "\n",
    "void registerUDF() {\n",
    "    // clear the lua cache\n",
    "    LuaCache.clearPackages();\n",
    "    Policy policy = new Policy();\n",
    "    // remove the current module, if any\n",
    "    client.removeUdf(null, UDFFile);\n",
    "    RegisterTask task = client.register(policy, LuaConfig.SourceDirectory+\"/\"+UDFFile, \n",
    "                                        UDFFile, Language.LUA);\n",
    "    task.waitTillComplete();\n",
    "    System.out.format(\"Registered the UDF module %s.\", UDFFile);;\n",
    "}\n",
    "\n",
    "registerUDF();"
   ]
  },
  {
   "cell_type": "markdown",
   "metadata": {},
   "source": [
    "# Execute UDF (Works as Expected)\n",
    "Run the UDF on multiple records using an expression filter to specify records with bin1 values in the range 4-7 (both inclusive)."
   ]
  },
  {
   "cell_type": "code",
   "execution_count": 6,
   "metadata": {},
   "outputs": [],
   "source": [
    "import com.aerospike.client.query.Statement;\n",
    "import com.aerospike.client.query.Filter;\n",
    "import com.aerospike.client.exp.Exp;\n",
    "import com.aerospike.client.task.ExecuteTask;\n",
    "import com.aerospike.client.Value;\n",
    "\n",
    "Statement stmt = new Statement();\n",
    "stmt.setNamespace(Namespace);\n",
    "stmt.setSetName(Set);\n",
    "WritePolicy policy = new WritePolicy();\n",
    "policy.filterExp = Exp.build(\n",
    "    Exp.and(\n",
    "        Exp.ge(Exp.intBin(\"bin1\"), Exp.val(4)),\n",
    "        Exp.le(Exp.intBin(\"bin1\"), Exp.val(7))));\n",
    "policy.maxRetries = 0;\n",
    "\n",
    "ExecuteTask task = client.execute(policy, stmt, UDFModule, \"add_append\",\n",
    "                                 Value.get(\"bin2\"), Value.get(1), Value.get(\"bin3\"), Value.get(\"xo\")); \n",
    "task.waitTillComplete(3000, 3000);"
   ]
  },
  {
   "cell_type": "markdown",
   "metadata": {},
   "source": [
    "Examine the logs in the terminal tab. No error (as expected)\n",
    "<pre>\n",
    "tail -20 /opt/aerospike/aerospike.log\n",
    "</pre>\n",
    "\n",
    "Examine the database content in the terminal window. The bin values should be changed.\n",
    "<pre>\n",
    "aql -c \"select * from test.forum-8523\"\n",
    "</pre>"
   ]
  },
  {
   "cell_type": "markdown",
   "metadata": {},
   "source": [
    "# Register Again - Without Change\n",
    "Re-register without removing the existing UDF first. Note there is no exception or error.\n",
    "\n",
    "Executing the UDF works as expected."
   ]
  },
  {
   "cell_type": "code",
   "execution_count": 7,
   "metadata": {},
   "outputs": [
    {
     "name": "stdout",
     "output_type": "stream",
     "text": [
      "Registered the UDF module update_example.lua."
     ]
    }
   ],
   "source": [
    "RegisterTask task = client.register(policy, LuaConfig.SourceDirectory+\"/\"+UDFFile, \n",
    "                                    UDFFile, Language.LUA);\n",
    "task.waitTillComplete();\n",
    "System.out.format(\"Registered the UDF module %s.\", UDFFile);;\n",
    "\n",
    "Statement stmt = new Statement();\n",
    "stmt.setNamespace(Namespace);\n",
    "stmt.setSetName(Set);\n",
    "WritePolicy policy = new WritePolicy();\n",
    "policy.filterExp = Exp.build(\n",
    "    Exp.and(\n",
    "        Exp.ge(Exp.intBin(\"bin1\"), Exp.val(4)),\n",
    "        Exp.le(Exp.intBin(\"bin1\"), Exp.val(7))));\n",
    "policy.maxRetries = 0;\n",
    "\n",
    "ExecuteTask task = client.execute(policy, stmt, UDFModule, \"add_append\",\n",
    "                                 Value.get(\"bin2\"), Value.get(1), Value.get(\"bin3\"), Value.get(\"xo\")); \n",
    "task.waitTillComplete();"
   ]
  },
  {
   "cell_type": "markdown",
   "metadata": {},
   "source": [
    "Examine the database content in the terminal window. The bin values should be changed.\n",
    "\n",
    "aql -c \"select * from test.forum-8523\""
   ]
  },
  {
   "cell_type": "markdown",
   "metadata": {},
   "source": [
    "# Register Again - With Change\n",
    "Change the UDF as follows, save, and then register without removing the existing UDF. \n",
    "<pre>\n",
    "-- update the specified bins by adding and appending the values provided\n",
    "function add_append(rec, binName1, addVal, binName2, appendVal)\n",
    "    rec[binName1] = rec[binName1] + addVal\n",
    "    rec[binName2] = rec[binName2] .. appendVal .. addVal\n",
    "    aerospike:update(rec)\n",
    "end\n",
    "</pre>\n",
    "Execute the UDF and note the new version is in effect."
   ]
  },
  {
   "cell_type": "code",
   "execution_count": 10,
   "metadata": {},
   "outputs": [
    {
     "name": "stdout",
     "output_type": "stream",
     "text": [
      "Registered the UDF module update_example.lua."
     ]
    }
   ],
   "source": [
    "RegisterTask task = client.register(policy, LuaConfig.SourceDirectory+\"/\"+UDFFile, \n",
    "                                    UDFFile, Language.LUA);\n",
    "task.waitTillComplete();\n",
    "System.out.format(\"Registered the UDF module %s.\", UDFFile);;\n",
    "\n",
    "Statement stmt = new Statement();\n",
    "stmt.setNamespace(Namespace);\n",
    "stmt.setSetName(Set);\n",
    "WritePolicy policy = new WritePolicy();\n",
    "policy.filterExp = Exp.build(\n",
    "    Exp.and(\n",
    "        Exp.ge(Exp.intBin(\"bin1\"), Exp.val(4)),\n",
    "        Exp.le(Exp.intBin(\"bin1\"), Exp.val(7))));\n",
    "policy.maxRetries = 0;\n",
    "\n",
    "ExecuteTask task = client.execute(policy, stmt, UDFModule, \"add_append\",\n",
    "                                 Value.get(\"bin2\"), Value.get(1), Value.get(\"bin3\"), Value.get(\"xo\")); \n",
    "task.waitTillComplete();"
   ]
  },
  {
   "cell_type": "markdown",
   "metadata": {},
   "source": [
    "Examine the database content in the terminal window. The bin values should be changed.\n",
    "\n",
    "aql -c \"select * from test.forum-8523\""
   ]
  },
  {
   "cell_type": "markdown",
   "metadata": {},
   "source": [
    "# Clean up\n",
    "Remove tutorial data and close connection."
   ]
  },
  {
   "cell_type": "code",
   "execution_count": null,
   "metadata": {
    "ExecuteTime": {
     "end_time": "2020-12-29T20:49:19.972650Z",
     "start_time": "2020-12-29T20:49:19.967344Z"
    }
   },
   "outputs": [],
   "source": [
    "client.truncate(null, Namespace, null, null);\n",
    "client.close();\n",
    "System.out.println(\"Removed tutorial data and closed server connection.\");"
   ]
  },
  {
   "cell_type": "markdown",
   "metadata": {},
   "source": [
    "# Further Exploration and Resources\n",
    "Here are some links for further exploration\n",
    "\n",
    "Resources\n",
    "- Aerospike Developer Hub\n",
    "    - [Java Developers Resources](https://developer.aerospike.com/java-developers)\n",
    "- Github repos\n",
    "    - [Java code examples](https://github.com/aerospike/aerospike-client-java/tree/master/examples/src/com/aerospike/examples)\n",
    "- Documentation\n",
    "    - [Java Client](https://www.aerospike.com/docs/client/java/index.html)\n",
    "    - [Java API Reference](https://www.aerospike.com/apidocs/java/)"
   ]
  },
  {
   "cell_type": "markdown",
   "metadata": {},
   "source": [
    "# Next steps\n",
    "\n",
    "Visit [Aerospike notebooks repo](https://github.com/aerospike-examples/interactive-notebooks) to run additional Aerospike notebooks. To run a different notebook, download the notebook from the repo to your local machine, and then click on File->Open in the notebook menu, and select Upload."
   ]
  }
 ],
 "metadata": {
  "kernelspec": {
   "display_name": "Java",
   "language": "java",
   "name": "java"
  },
  "language_info": {
   "codemirror_mode": "java",
   "file_extension": ".jshell",
   "mimetype": "text/x-java-source",
   "name": "Java",
   "pygments_lexer": "java",
   "version": "11.0.8+10-LTS"
  },
  "toc": {
   "base_numbering": 1,
   "nav_menu": {},
   "number_sections": true,
   "sideBar": true,
   "skip_h1_title": false,
   "title_cell": "Table of Contents",
   "title_sidebar": "Contents",
   "toc_cell": true,
   "toc_position": {},
   "toc_section_display": true,
   "toc_window_display": false
  }
 },
 "nbformat": 4,
 "nbformat_minor": 4
}
