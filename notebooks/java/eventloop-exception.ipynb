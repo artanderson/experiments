{
 "cells": [
  {
   "cell_type": "markdown",
   "metadata": {},
   "source": [
    "# Java Client Issue: Event Loop Exception\n",
    "Reproducible case for event loop exception. How to get event loops working in the docker container?\n",
    "<br>\n",
    "This notebook requires Aerospike datbase running on localhost. Visit [Aerospike notebooks repo](https://github.com/aerospike-examples/interactive-notebooks) for additional details and the docker container."
   ]
  },
  {
   "cell_type": "markdown",
   "metadata": {},
   "source": [
    "## Ensure database is running\n",
    "This notebook requires that Aerospike datbase is running."
   ]
  },
  {
   "cell_type": "code",
   "execution_count": 63,
   "metadata": {},
   "outputs": [],
   "source": [
    "import io.github.spencerpark.ijava.IJava;\n",
    "import io.github.spencerpark.jupyter.kernel.magic.common.Shell;\n",
    "IJava.getKernelInstance().getMagics().registerMagics(Shell.class);\n",
    "%sh asd"
   ]
  },
  {
   "cell_type": "markdown",
   "metadata": {},
   "source": [
    "## Download Aerospike client from POM\n",
    "Here the Java client version 5.0.0 is installed."
   ]
  },
  {
   "cell_type": "code",
   "execution_count": 64,
   "metadata": {},
   "outputs": [],
   "source": [
    "%%loadFromPOM\n",
    "<dependencies>\n",
    "  <dependency>\n",
    "    <groupId>com.aerospike</groupId>\n",
    "    <artifactId>aerospike-client</artifactId>\n",
    "    <version>5.0.0</version>\n",
    "  </dependency>\n",
    "</dependencies>"
   ]
  },
  {
   "cell_type": "markdown",
   "metadata": {},
   "source": [
    "## Connect to database and populate test data\n",
    "The test data has ten records with user-key \"id1-10\", two bins (fields) \"bin1\" and \"bin2\", in the namespace \"test\" and set \"test_small\". "
   ]
  },
  {
   "cell_type": "code",
   "execution_count": 65,
   "metadata": {},
   "outputs": [
    {
     "name": "stdout",
     "output_type": "stream",
     "text": [
      "Initialized the client and connected to the cluster.\n",
      "Test data popuated"
     ]
    }
   ],
   "source": [
    "import com.aerospike.client.AerospikeClient;\n",
    "import com.aerospike.client.Bin;\n",
    "import com.aerospike.client.Key;\n",
    "import com.aerospike.client.policy.WritePolicy;\n",
    "\n",
    "AerospikeClient client = new AerospikeClient(\"localhost\", 3000);\n",
    "System.out.println(\"Initialized the client and connected to the cluster.\");\n",
    "\n",
    "String Namespace = \"test\";\n",
    "String SmallSet = \"test_small\";\n",
    "\n",
    "WritePolicy wpolicy = new WritePolicy();\n",
    "wpolicy.sendKey = true;\n",
    "for (int i = 1; i <= 10; i++) {\n",
    "    Key key = new Key(Namespace, SmallSet, \"id-\"+i);\n",
    "    Bin bin1 = new Bin(new String(\"bin1\"), i);\n",
    "    Bin bin2 = new Bin(new String(\"bin2\"), 1000+i);\n",
    "    client.put(wpolicy, key, bin1, bin2);\n",
    "}\n",
    "\n",
    "System.out.format(\"Test data popuated\");;"
   ]
  },
  {
   "cell_type": "markdown",
   "metadata": {},
   "source": [
    "# Issue: package io.netty.channel does not exist\n",
    "As a result cannot use EventLoopGroup variants. "
   ]
  },
  {
   "cell_type": "code",
   "execution_count": 66,
   "metadata": {},
   "outputs": [
    {
     "ename": "CompilationException",
     "evalue": "",
     "output_type": "error",
     "traceback": [
      "\u001b[1m\u001b[30m|   \u001b[1m\u001b[30mimport \u001b[0m\u001b[1m\u001b[30m\u001b[41mio.netty.channel.EventLoopGroup\u001b[0m\u001b[1m\u001b[30m;\u001b[0m",
      "\u001b[1m\u001b[31mpackage io.netty.channel does not exist\u001b[0m",
      ""
     ]
    }
   ],
   "source": [
    "import io.netty.channel.EventLoopGroup;\n",
    "import io.netty.channel.epoll.EpollEventLoopGroup;\n",
    "import io.netty.channel.nio.NioEventLoopGroup;"
   ]
  },
  {
   "cell_type": "markdown",
   "metadata": {},
   "source": [
    "# Issue: Event Loop Throws a Null Pointer Exception.\n",
    "\n",
    "Using an event loop without EventLoopGroup (\"DIRECT_NIO\" variant). Fails with the null pointer exception. "
   ]
  },
  {
   "cell_type": "code",
   "execution_count": 67,
   "metadata": {},
   "outputs": [
    {
     "ename": "EvalException",
     "evalue": "null",
     "output_type": "error",
     "traceback": [
      "\u001b[1m\u001b[31m---------------------------------------------------------------------------\u001b[0m",
      "\u001b[1m\u001b[31mjava.lang.NullPointerException: null\u001b[0m",
      "\u001b[1m\u001b[31m\tat com.aerospike.client.async.NioCommand.<init>(NioCommand.java:55)\u001b[0m",
      "\u001b[1m\u001b[31m\tat com.aerospike.client.async.NioEventLoop.execute(NioEventLoop.java:72)\u001b[0m",
      "\u001b[1m\u001b[31m\tat com.aerospike.client.AerospikeClient.get(AerospikeClient.java:845)\u001b[0m",
      "\u001b[1m\u001b[31m\tat .(#2026:1)\u001b[0m"
     ]
    }
   ],
   "source": [
    "// background execution\n",
    "import com.aerospike.client.async.EventLoop;\n",
    "import com.aerospike.client.async.EventLoops;\n",
    "import com.aerospike.client.async.EventPolicy;\n",
    "import com.aerospike.client.async.NettyEventLoops;\n",
    "import com.aerospike.client.async.NioEventLoops;\n",
    "import com.aerospike.client.listener.RecordListener;\n",
    "import com.aerospike.client.util.Util;\n",
    "\n",
    "// a simple record listener - prints out the key and bins\n",
    "public class MyRecordListener implements RecordListener {\n",
    "    public void onSuccess(Key key, Record record) throws AerospikeException {\n",
    "        System.out.format(\"set=%s key=%s bins=%s\\n\", key.setName, key.userKey, record.bins);\n",
    "    }\n",
    "    public void onFailure(AerospikeException e) {\n",
    "        System.out.format(\"Query failed: \" + Util.getErrorMessage(e));\n",
    "    }\n",
    "}\n",
    "\n",
    "EventLoops eventLoops = new NioEventLoops(new EventPolicy(), 1);\n",
    "EventLoop eventLoop = eventLoops.get(0);\n",
    "\n",
    "//execute get in background\n",
    "Key key = new Key(Namespace, SmallSet, \"id-5\");\n",
    "client.get(eventLoop, new MyRecordListener(), null, key);"
   ]
  },
  {
   "cell_type": "markdown",
   "metadata": {},
   "source": [
    "## Clean up"
   ]
  },
  {
   "cell_type": "code",
   "execution_count": 68,
   "metadata": {},
   "outputs": [
    {
     "name": "stdout",
     "output_type": "stream",
     "text": [
      "Removed data and closed server connection.\n"
     ]
    }
   ],
   "source": [
    "client.truncate(null, Namespace, null, null);\n",
    "client.close();\n",
    "System.out.println(\"Removed data and closed server connection.\");"
   ]
  },
  {
   "cell_type": "markdown",
   "metadata": {},
   "source": [
    "## Next steps\n",
    "\n",
    "Visit [Aerospike notebooks repo](https://github.com/aerospike-examples/interactive-notebooks) to run additional Aerospike notebooks. To run a different notebook, download the notebook from the repo to your local machine, and then click on File->Open, and select Upload."
   ]
  }
 ],
 "metadata": {
  "kernelspec": {
   "display_name": "Java",
   "language": "java",
   "name": "java"
  },
  "language_info": {
   "codemirror_mode": "java",
   "file_extension": ".jshell",
   "mimetype": "text/x-java-source",
   "name": "Java",
   "pygments_lexer": "java",
   "version": "11.0.8+10-LTS"
  },
  "toc": {
   "base_numbering": 1,
   "nav_menu": {},
   "number_sections": true,
   "sideBar": true,
   "skip_h1_title": false,
   "title_cell": "Table of Contents",
   "title_sidebar": "Contents",
   "toc_cell": false,
   "toc_position": {},
   "toc_section_display": true,
   "toc_window_display": false
  }
 },
 "nbformat": 4,
 "nbformat_minor": 4
}
