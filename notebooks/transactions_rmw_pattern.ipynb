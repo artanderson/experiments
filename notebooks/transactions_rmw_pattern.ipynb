{
 "cells": [
  {
   "cell_type": "markdown",
   "metadata": {
    "toc": true
   },
   "source": [
    "<h1>Table of Contents<span class=\"tocSkip\"></span></h1>\n",
    "<div class=\"toc\"><ul class=\"toc-item\"><li><span><a href=\"#[Tutorial-Title]¶\" data-toc-modified-id=\"[Tutorial-Title]¶-1\"><span class=\"toc-item-num\">1&nbsp;&nbsp;</span>[Tutorial Title]¶</a></span><ul class=\"toc-item\"><li><span><a href=\"#Introduction\" data-toc-modified-id=\"Introduction-1.1\"><span class=\"toc-item-num\">1.1&nbsp;&nbsp;</span>Introduction</a></span></li><li><span><a href=\"#Prerequisites\" data-toc-modified-id=\"Prerequisites-1.2\"><span class=\"toc-item-num\">1.2&nbsp;&nbsp;</span>Prerequisites</a></span></li><li><span><a href=\"#Initialization\" data-toc-modified-id=\"Initialization-1.3\"><span class=\"toc-item-num\">1.3&nbsp;&nbsp;</span>Initialization</a></span><ul class=\"toc-item\"><li><span><a href=\"#Ensure-database-is-running\" data-toc-modified-id=\"Ensure-database-is-running-1.3.1\"><span class=\"toc-item-num\">1.3.1&nbsp;&nbsp;</span>Ensure database is running</a></span></li><li><span><a href=\"#Download-and-install-additional-components.\" data-toc-modified-id=\"Download-and-install-additional-components.-1.3.2\"><span class=\"toc-item-num\">1.3.2&nbsp;&nbsp;</span>Download and install additional components.</a></span></li><li><span><a href=\"#Connect-to-database.\" data-toc-modified-id=\"Connect-to-database.-1.3.3\"><span class=\"toc-item-num\">1.3.3&nbsp;&nbsp;</span>Connect to database.</a></span></li><li><span><a href=\"#Populate-database-with-test-data.\" data-toc-modified-id=\"Populate-database-with-test-data.-1.3.4\"><span class=\"toc-item-num\">1.3.4&nbsp;&nbsp;</span>Populate database with test data.</a></span></li><li><span><a href=\"#Create-secondary-indexes-if-necessary\" data-toc-modified-id=\"Create-secondary-indexes-if-necessary-1.3.5\"><span class=\"toc-item-num\">1.3.5&nbsp;&nbsp;</span>Create secondary indexes if necessary</a></span></li></ul></li></ul></li><li><span><a href=\"#[Tutorial-Section]\" data-toc-modified-id=\"[Tutorial-Section]-2\"><span class=\"toc-item-num\">2&nbsp;&nbsp;</span>[Tutorial Section]</a></span><ul class=\"toc-item\"><li><span><a href=\"#[Subsection-1]\" data-toc-modified-id=\"[Subsection-1]-2.1\"><span class=\"toc-item-num\">2.1&nbsp;&nbsp;</span>[Subsection 1]</a></span></li><li><span><a href=\"#[Subsection-2]\" data-toc-modified-id=\"[Subsection-2]-2.2\"><span class=\"toc-item-num\">2.2&nbsp;&nbsp;</span>[Subsection 2]</a></span></li></ul></li><li><span><a href=\"#[Next-Section]\" data-toc-modified-id=\"[Next-Section]-3\"><span class=\"toc-item-num\">3&nbsp;&nbsp;</span>[Next Section]</a></span><ul class=\"toc-item\"><li><span><a href=\"#[Subsection-1]\" data-toc-modified-id=\"[Subsection-1]-3.1\"><span class=\"toc-item-num\">3.1&nbsp;&nbsp;</span>[Subsection 1]</a></span></li><li><span><a href=\"#[Subsection-2]\" data-toc-modified-id=\"[Subsection-2]-3.2\"><span class=\"toc-item-num\">3.2&nbsp;&nbsp;</span>[Subsection 2]</a></span></li></ul></li><li><span><a href=\"#Takeaways-and-Conclusion\" data-toc-modified-id=\"Takeaways-and-Conclusion-4\"><span class=\"toc-item-num\">4&nbsp;&nbsp;</span>Takeaways and Conclusion</a></span></li><li><span><a href=\"#Clean-up\" data-toc-modified-id=\"Clean-up-5\"><span class=\"toc-item-num\">5&nbsp;&nbsp;</span>Clean up</a></span></li><li><span><a href=\"#Further-Exploration-and-Resources\" data-toc-modified-id=\"Further-Exploration-and-Resources-6\"><span class=\"toc-item-num\">6&nbsp;&nbsp;</span>Further Exploration and Resources</a></span><ul class=\"toc-item\"><li><span><a href=\"#Next-steps\" data-toc-modified-id=\"Next-steps-6.1\"><span class=\"toc-item-num\">6.1&nbsp;&nbsp;</span>Next steps</a></span></li></ul></li></ul></div>"
   ]
  },
  {
   "cell_type": "markdown",
   "metadata": {},
   "source": [
    "# Implementing Read-Write Transactions with R-M-W Pattern \n",
    "This tutorial explains the need for the Read-Modify-Write Pattern in order to ensure atomicity and isolation of read-write transactions on a single record. \n",
    "\n",
    "This notebook requires Aerospike datbase running on localhost and that python and the Aerospike python client have been installed (`pip install aerospike`). Visit [Aerospike notebooks repo](https://github.com/aerospike-examples/interactive-notebooks) for additional details and the docker container."
   ]
  },
  {
   "cell_type": "markdown",
   "metadata": {},
   "source": [
    "## Introduction\n",
    "In Aerospike, the transactional boundaries are single request, single record. While multiple operations may be specified in a single request and on a single record, each such operation is single bin specific and only certain write operations are allowed. Therefore, neither updates involving multiple bins (e.g, a=a+b) nor general logic (e.g., \"concatenate alternate letters of a bin and append\") are possible as server side operations. Most updates entail R-M-W or Reading the record, Modifying bins on the client side, and then Writing the record updates back to the server. \n",
    "\n",
    "The tutorial first shows how the read-write operations can result in lost writes with an exmaple of concurrent updates. \n",
    "\n",
    "Then we show how a version check in R-M-W solves the problem by disallowing intereaved writes and thus protecting against lost writes."
   ]
  },
  {
   "cell_type": "markdown",
   "metadata": {},
   "source": [
    "## Prerequisites\n",
    "This tutorial assumes familiarity with the following topics:\n",
    "\n",
    "[Provide topics and links. For example:]\n",
    "- [Hello World](hello_world.ipynb)\n",
    "- [Aerospike Basic Operations](basic_operations.ipynb)"
   ]
  },
  {
   "cell_type": "markdown",
   "metadata": {},
   "source": [
    "## Initialization"
   ]
  },
  {
   "cell_type": "markdown",
   "metadata": {},
   "source": [
    "### Ensure database is running\n",
    "This notebook requires that Aerospike datbase is running. \n",
    "[Include the right code cell for Java or Python from the two cells below.] "
   ]
  },
  {
   "cell_type": "code",
   "execution_count": null,
   "metadata": {
    "ExecuteTime": {
     "end_time": "2020-12-29T20:48:49.695739Z",
     "start_time": "2020-12-29T20:48:49.447020Z"
    }
   },
   "outputs": [],
   "source": [
    "!asd >& /dev/null\n",
    "!pgrep -x asd >/dev/null && echo \"Aerospike database is running!\" || echo \"**Aerospike database is not running!**\""
   ]
  },
  {
   "cell_type": "markdown",
   "metadata": {},
   "source": [
    "### Connect to database."
   ]
  },
  {
   "cell_type": "code",
   "execution_count": null,
   "metadata": {
    "ExecuteTime": {
     "end_time": "2020-12-29T20:48:51.190060Z",
     "start_time": "2020-12-29T20:48:51.110597Z"
    }
   },
   "outputs": [],
   "source": [
    "# import the module\n",
    "from __future__ import print_function\n",
    "import aerospike\n",
    "\n",
    "# Configure the client\n",
    "config = {\n",
    "  'hosts': [ ('127.0.0.1', 3000) ],\n",
    "  'policy' : {'key': aerospike.POLICY_KEY_SEND}\n",
    "}\n",
    "\n",
    "# Create a client and connect it to the cluster\n",
    "try:\n",
    "  client = aerospike.client(config).connect()\n",
    "except:\n",
    "  import sys\n",
    "  print(\"failed to connect to the cluster with\", config['hosts'])\n",
    "  sys.exit(1)\n",
    "print('Client successfully connected to the database.')"
   ]
  },
  {
   "cell_type": "markdown",
   "metadata": {},
   "source": [
    "### Populate database with test data.\n",
    "We create a one record with two integer bins \"bin-increment\" and \"bin-set\" (the names will become clear below), both initialized to 1."
   ]
  },
  {
   "cell_type": "code",
   "execution_count": null,
   "metadata": {
    "ExecuteTime": {
     "end_time": "2020-12-29T20:48:52.195181Z",
     "start_time": "2020-12-29T20:48:52.189787Z"
    }
   },
   "outputs": [],
   "source": [
    "namespace = 'test'\n",
    "tutorial_set = 'rmw-tutorial-set'\n",
    "bin_inc = 'bin-increment'\n",
    "bin_set = 'bin-set'\n",
    "initial_value = 1\n",
    "# Records are addressable via a tuple of (namespace, set, key)\n",
    "try:\n",
    "    for i in range(10):\n",
    "      # Write the records\n",
    "      client.put((namespace, tutorial_set, 'id-1'), {bin_inc: initial_value, bin_set: initial_value})\n",
    "except Exception as e:\n",
    "  import sys\n",
    "  print(\"error: {0}\".format(e), file=sys.stderr)\n",
    "\n",
    "print('Test data populated.')"
   ]
  },
  {
   "cell_type": "markdown",
   "metadata": {},
   "source": [
    "# The Problem of Lost Writes\n",
    "In a concurrent setting, multiple clients may be performaing Read-Modify-Write on the same record and get in each other's way. As various R-M-W can interleave, a transaction's write can be overwritten, thus losing that transaction.\n",
    "\n",
    "We illustrate this effect by running concurrent threads, each thread in a loop:\n",
    "- Reads the record\n",
    "- Writes the record by performing a) atomic increment on bin_inc, and b) updating bin_set with the read value of bin_inc + 1. It also reads in the same multi-op request the resulting values of bin_inc and bin_set\n",
    "- If bin_inc is greater than bin_set, it increments the counter \"interleaved_writes\" by the difference.\n",
    "\n",
    "At the end, each thread outputs its interleaved_writes count. In aggregate, these many writes were lost."
   ]
  },
  {
   "cell_type": "code",
   "execution_count": null,
   "metadata": {},
   "outputs": [],
   "source": [
    "# Code"
   ]
  },
  {
   "cell_type": "markdown",
   "metadata": {},
   "source": [
    "# Introducing Version Check\n",
    "The simple R-M-W is modified with how the Write is done: The Write is conditional on the record not having been modified since the Read. It is a \"check-and-set (CAS)\" like operation that succeeds if the record version is still the same as at the time of Read. Otherwise it fails, and the client must retry the whole R-M-W pattern.\n",
    "\n",
    "We perform the same concurrent test with the version check at Write. We expect no interleaved_writes reported in any thread."
   ]
  },
  {
   "cell_type": "code",
   "execution_count": null,
   "metadata": {},
   "outputs": [],
   "source": [
    "# Code"
   ]
  },
  {
   "cell_type": "markdown",
   "metadata": {},
   "source": [
    "# Takeaways\n",
    "In the tutorial we showed the need for first, why read-write transactions need to have the R-M-W pattern in Aerospike. We showed with a simple demo, if performed simply, how writes can be lost in a concurrent environment. Then, by introducing the version check logic and syntax, we demostrated how the developer can ensure atomicity and isolation of the read-write transaction."
   ]
  },
  {
   "cell_type": "markdown",
   "metadata": {},
   "source": [
    "# Clean up\n",
    "Remove data and close connection."
   ]
  },
  {
   "cell_type": "code",
   "execution_count": null,
   "metadata": {
    "ExecuteTime": {
     "end_time": "2020-12-29T20:49:21.100931Z",
     "start_time": "2020-12-29T20:49:21.095318Z"
    }
   },
   "outputs": [],
   "source": [
    "client.truncate(namespace, tutorial_set, 0)\n",
    "# Close the connection to the Aerospike cluster\n",
    "client.close()\n",
    "print('Removed tutorial data. Connection closed.')"
   ]
  },
  {
   "cell_type": "markdown",
   "metadata": {},
   "source": [
    "# Further Exploration and Resources\n",
    "For further exploration of transactions support in Aerospike, check out the following resources:\n",
    "\n",
    "- Blog posts\n",
    "    - [Developers: Understanding Aerospike Transactions](https://www.aerospike.com/blog/developers-understanding-aerospike-transactions/)\n",
    "    - [Twelve Do's of Consistency in Aerospike](https://www.aerospike.com/blog/twelve-dos-of-consistency-in-aerospike/)"
   ]
  },
  {
   "cell_type": "markdown",
   "metadata": {},
   "source": [
    "## Next steps\n",
    "\n",
    "Visit [Aerospike notebooks repo](https://github.com/aerospike-examples/interactive-notebooks) to run additional Aerospike notebooks. To run a different notebook, download the notebook from the repo to your local machine, and then click on File->Open, and select Upload."
   ]
  }
 ],
 "metadata": {
  "kernelspec": {
   "display_name": "Python 3",
   "language": "python",
   "name": "python3"
  },
  "language_info": {
   "codemirror_mode": {
    "name": "ipython",
    "version": 3
   },
   "file_extension": ".py",
   "mimetype": "text/x-python",
   "name": "python",
   "nbconvert_exporter": "python",
   "pygments_lexer": "ipython3",
   "version": "3.8.6"
  },
  "toc": {
   "base_numbering": 1,
   "nav_menu": {},
   "number_sections": true,
   "sideBar": true,
   "skip_h1_title": false,
   "title_cell": "Table of Contents",
   "title_sidebar": "Contents",
   "toc_cell": true,
   "toc_position": {},
   "toc_section_display": true,
   "toc_window_display": false
  }
 },
 "nbformat": 4,
 "nbformat_minor": 4
}
