{
 "cells": [
  {
   "cell_type": "markdown",
   "metadata": {
    "toc": true
   },
   "source": [
    "<h1>Table of Contents<span class=\"tocSkip\"></span></h1>\n",
    "<div class=\"toc\"><ul class=\"toc-item\"><li><span><a href=\"#[Tutorial-Title]¶\" data-toc-modified-id=\"[Tutorial-Title]¶-1\"><span class=\"toc-item-num\">1&nbsp;&nbsp;</span>[Tutorial Title]¶</a></span><ul class=\"toc-item\"><li><span><a href=\"#Introduction\" data-toc-modified-id=\"Introduction-1.1\"><span class=\"toc-item-num\">1.1&nbsp;&nbsp;</span>Introduction</a></span></li><li><span><a href=\"#Prerequisites\" data-toc-modified-id=\"Prerequisites-1.2\"><span class=\"toc-item-num\">1.2&nbsp;&nbsp;</span>Prerequisites</a></span></li><li><span><a href=\"#Initialization\" data-toc-modified-id=\"Initialization-1.3\"><span class=\"toc-item-num\">1.3&nbsp;&nbsp;</span>Initialization</a></span><ul class=\"toc-item\"><li><span><a href=\"#Ensure-database-is-running\" data-toc-modified-id=\"Ensure-database-is-running-1.3.1\"><span class=\"toc-item-num\">1.3.1&nbsp;&nbsp;</span>Ensure database is running</a></span></li><li><span><a href=\"#Download-and-install-additional-components.\" data-toc-modified-id=\"Download-and-install-additional-components.-1.3.2\"><span class=\"toc-item-num\">1.3.2&nbsp;&nbsp;</span>Download and install additional components.</a></span></li><li><span><a href=\"#Connect-to-database.\" data-toc-modified-id=\"Connect-to-database.-1.3.3\"><span class=\"toc-item-num\">1.3.3&nbsp;&nbsp;</span>Connect to database.</a></span></li><li><span><a href=\"#Populate-database-with-test-data.\" data-toc-modified-id=\"Populate-database-with-test-data.-1.3.4\"><span class=\"toc-item-num\">1.3.4&nbsp;&nbsp;</span>Populate database with test data.</a></span></li><li><span><a href=\"#Create-secondary-indexes-if-necessary\" data-toc-modified-id=\"Create-secondary-indexes-if-necessary-1.3.5\"><span class=\"toc-item-num\">1.3.5&nbsp;&nbsp;</span>Create secondary indexes if necessary</a></span></li></ul></li></ul></li><li><span><a href=\"#[Tutorial-Section]\" data-toc-modified-id=\"[Tutorial-Section]-2\"><span class=\"toc-item-num\">2&nbsp;&nbsp;</span>[Tutorial Section]</a></span><ul class=\"toc-item\"><li><span><a href=\"#[Subsection-1]\" data-toc-modified-id=\"[Subsection-1]-2.1\"><span class=\"toc-item-num\">2.1&nbsp;&nbsp;</span>[Subsection 1]</a></span></li><li><span><a href=\"#[Subsection-2]\" data-toc-modified-id=\"[Subsection-2]-2.2\"><span class=\"toc-item-num\">2.2&nbsp;&nbsp;</span>[Subsection 2]</a></span></li></ul></li><li><span><a href=\"#[Next-Section]\" data-toc-modified-id=\"[Next-Section]-3\"><span class=\"toc-item-num\">3&nbsp;&nbsp;</span>[Next Section]</a></span><ul class=\"toc-item\"><li><span><a href=\"#[Subsection-1]\" data-toc-modified-id=\"[Subsection-1]-3.1\"><span class=\"toc-item-num\">3.1&nbsp;&nbsp;</span>[Subsection 1]</a></span></li><li><span><a href=\"#[Subsection-2]\" data-toc-modified-id=\"[Subsection-2]-3.2\"><span class=\"toc-item-num\">3.2&nbsp;&nbsp;</span>[Subsection 2]</a></span></li></ul></li><li><span><a href=\"#Takeaways-and-Conclusion\" data-toc-modified-id=\"Takeaways-and-Conclusion-4\"><span class=\"toc-item-num\">4&nbsp;&nbsp;</span>Takeaways and Conclusion</a></span></li><li><span><a href=\"#Clean-up\" data-toc-modified-id=\"Clean-up-5\"><span class=\"toc-item-num\">5&nbsp;&nbsp;</span>Clean up</a></span></li><li><span><a href=\"#Further-Exploration-and-Resources\" data-toc-modified-id=\"Further-Exploration-and-Resources-6\"><span class=\"toc-item-num\">6&nbsp;&nbsp;</span>Further Exploration and Resources</a></span><ul class=\"toc-item\"><li><span><a href=\"#Next-steps\" data-toc-modified-id=\"Next-steps-6.1\"><span class=\"toc-item-num\">6.1&nbsp;&nbsp;</span>Next steps</a></span></li></ul></li></ul></div>"
   ]
  },
  {
   "cell_type": "markdown",
   "metadata": {},
   "source": [
    "**How To Create Aerospike Tutorial in Jupyter Notebook:**\n",
    "- Use the template below and customize the square-bracketed text in the template for your needs. Omit them if appropriate.\n",
    "- Code cells in this notebook are not meant to run; they are provided for illustrative purpose only. When both Python and Java code cells are presented, use the appropriate one and delete the other. \n",
    "- Leverage Jupyter Notebook style to build the tutorial through specific incremental goals. Avoid large markdown and code cells; instead break them down into multiple bite-sized cells.\n",
    "- Provide local notebook links when possible as loccal links run on click, but remote notebooks must be downloaded first.\n",
    "- Use a unique set name in \"test\" namespace to populate each tutorial's data. Only modify data within this set without affecting the rest of the database. It is a good practice to clean up this set at the end.\n",
    "- Explore the extensions TOC (accessible from the header icon), collapsible headers, and scratchpad (arrow icon at right bottom). Cofigure and save as you would like the user to experience when they open the notebook first. For example, TOC at top, all headers collapsed, etc. Consider configuring TOC extension to have a TOC cell at the top.\n",
    "- Name the notebook appropriately and check it into appropriate repo, such as under [this notebooks directory](https://github.com/aerospike/aerospike-dev-notebooks.docker/tree/main/notebooks). Execute all cells before checking into the repo so that the notebook may be read completely as a blog post with its output visible in the non-interactive github viewer. \n"
   ]
  },
  {
   "cell_type": "markdown",
   "metadata": {},
   "source": [
    "# [Tutorial Title]\n",
    "[A brief description of the topic and goals of the tutorial.]\n",
    "\n",
    "This notebook requires Aerospike datbase running on localhost and that python and the Aerospike python client have been installed (`pip install aerospike`). Visit [Aerospike notebooks repo](https://github.com/aerospike-examples/interactive-notebooks) for additional details and the docker container."
   ]
  },
  {
   "cell_type": "markdown",
   "metadata": {},
   "source": [
    "## Introduction\n",
    "[Describe what the developer will learn and how.]\n",
    "\n",
    "[Why is this topic relevant and important.]\n",
    "\n",
    "[The structure and flow. Tips for skipping basic sections or for returning users.]"
   ]
  },
  {
   "cell_type": "markdown",
   "metadata": {},
   "source": [
    "## Prerequisites\n",
    "This tutorial assumes familiarity with the following topics:\n",
    "\n",
    "[Provide topics and links. For example:]\n",
    "- [Hello World](hello_world.ipynb)\n",
    "- [Aerospike Basic Operations](basic_operations.ipynb)\n",
    "- [Another area]"
   ]
  },
  {
   "cell_type": "markdown",
   "metadata": {},
   "source": [
    "## Initialization"
   ]
  },
  {
   "cell_type": "markdown",
   "metadata": {},
   "source": [
    "### Ensure database is running\n",
    "This notebook requires that Aerospike datbase is running. \n",
    "[Include the right code cell for Java or Python from the two cells below.] "
   ]
  },
  {
   "cell_type": "code",
   "execution_count": null,
   "metadata": {
    "ExecuteTime": {
     "end_time": "2020-12-29T20:48:49.065421Z",
     "start_time": "2020-12-29T20:48:49.060897Z"
    }
   },
   "outputs": [],
   "source": [
    "import io.github.spencerpark.ijava.IJava;\n",
    "import io.github.spencerpark.jupyter.kernel.magic.common.Shell;\n",
    "IJava.getKernelInstance().getMagics().registerMagics(Shell.class);\n",
    "%sh asd"
   ]
  },
  {
   "cell_type": "code",
   "execution_count": null,
   "metadata": {
    "ExecuteTime": {
     "end_time": "2020-12-29T20:48:49.695739Z",
     "start_time": "2020-12-29T20:48:49.447020Z"
    }
   },
   "outputs": [],
   "source": [
    "!asd >& /dev/null\n",
    "!pgrep -x asd >/dev/null && echo \"Aerospike database is running!\" || echo \"**Aerospike database is not running!**\""
   ]
  },
  {
   "cell_type": "markdown",
   "metadata": {},
   "source": [
    "### Download and install additional components.\n",
    "[For Java notebooks, the latest Java client should be loaded here by including the following code cell. Specify the correct version. This section can be omitted for Python notebooks as a Python client is already installed.]"
   ]
  },
  {
   "cell_type": "code",
   "execution_count": null,
   "metadata": {
    "ExecuteTime": {
     "end_time": "2020-12-29T20:48:50.084636Z",
     "start_time": "2020-12-29T20:48:50.080629Z"
    }
   },
   "outputs": [],
   "source": [
    "%%loadFromPOM\n",
    "<dependencies>\n",
    "  <dependency>\n",
    "    <groupId>com.aerospike</groupId>\n",
    "    <artifactId>aerospike-client</artifactId>\n",
    "    <version>[specify the Java client version here, e.g., 5.0.0]</version>\n",
    "  </dependency>\n",
    "</dependencies>"
   ]
  },
  {
   "cell_type": "markdown",
   "metadata": {},
   "source": [
    "### Connect to database.\n",
    "[Most developer tutorials need a client to be connected to the database. Use the right cell and change the parameters as needed.]"
   ]
  },
  {
   "cell_type": "code",
   "execution_count": null,
   "metadata": {
    "ExecuteTime": {
     "end_time": "2020-12-29T20:48:50.771243Z",
     "start_time": "2020-12-29T20:48:50.767819Z"
    }
   },
   "outputs": [],
   "source": [
    "import com.aerospike.client.AerospikeClient;\n",
    "AerospikeClient client = new AerospikeClient(\"localhost\", 3000);\n",
    "System.out.println(\"Initialized the client and connected to the cluster.\");"
   ]
  },
  {
   "cell_type": "code",
   "execution_count": null,
   "metadata": {
    "ExecuteTime": {
     "end_time": "2020-12-29T20:48:51.190060Z",
     "start_time": "2020-12-29T20:48:51.110597Z"
    }
   },
   "outputs": [],
   "source": [
    "# import the module\n",
    "from __future__ import print_function\n",
    "import aerospike\n",
    "\n",
    "# Configure the client\n",
    "config = {\n",
    "  'hosts': [ ('127.0.0.1', 3000) ],\n",
    "  'policy' : {'key': aerospike.POLICY_KEY_SEND}\n",
    "}\n",
    "\n",
    "# Create a client and connect it to the cluster\n",
    "try:\n",
    "  client = aerospike.client(config).connect()\n",
    "except:\n",
    "  import sys\n",
    "  print(\"failed to connect to the cluster with\", config['hosts'])\n",
    "  sys.exit(1)\n",
    "print('Client successfully connected to the database.')"
   ]
  },
  {
   "cell_type": "markdown",
   "metadata": {},
   "source": [
    "### Populate database with test data.\n",
    "[Remove this section if the tutorial does not need the database to be populated with test data.]\n",
    "\n",
    "[This can be done with code or using the cvsloader utility.]\n",
    "\n",
    "[Describe the test data and intent. The cells below are only examples - replace with your own data.]"
   ]
  },
  {
   "cell_type": "code",
   "execution_count": null,
   "metadata": {
    "ExecuteTime": {
     "end_time": "2020-12-29T20:48:51.857812Z",
     "start_time": "2020-12-29T20:48:51.852925Z"
    }
   },
   "outputs": [],
   "source": [
    "import com.aerospike.client.policy.ClientPolicy;\n",
    "\n",
    "String Namespace = \"test\";\n",
    "String Set = \"my-unique-set\";\n",
    "String BinInt = \"binint\";\n",
    "String BinStr = \"binstr\";\n",
    "int NumRecords = 10;\n",
    "\n",
    "String Names[] = {\"1. Clark\", \"2. Keenan\", \"3. Smith\", \"4. Jones\", \"5. Clark\", \n",
    "                \"6. Jones\", \"7. Iyer\", \"8. Smith\", \"9. Hernandez\", \"10. Smith\"};\n",
    "\n",
    "ClientPolicy policy = new ClientPolicy();\n",
    "for (int i = 1; i <= NumRecords; i++) {\n",
    "    Key key = new Key(Namespace, Set, i);\n",
    "    Bin bin1 = new Bin(BinInt, i);\n",
    "    Bin bin2 = new Bin(BinStr, Names[i-1]);\n",
    "    client.put(policy.writePolicyDefault, key, bin1, bin2);\n",
    "}\n",
    "\n",
    "System.out.format(\"Written %d records in ns=%s set=%s with userkeys 1-%d.\",\n",
    "                  NumRecords, Namespace, Set, NumRecords);"
   ]
  },
  {
   "cell_type": "code",
   "execution_count": null,
   "metadata": {
    "ExecuteTime": {
     "end_time": "2020-12-29T20:48:52.195181Z",
     "start_time": "2020-12-29T20:48:52.189787Z"
    }
   },
   "outputs": [],
   "source": [
    "namespace = 'test'\n",
    "tutorial_set = 'my-unique-set'\n",
    "# Records are addressable via a tuple of (namespace, set, key)\n",
    "people = [ {'id':1, 'name':'John Doe', 'age': 53},\n",
    "           {'id':2, 'name':'Brian Yu', 'age': 21},\n",
    "           {'id':3, 'name':'Will Kim', 'age': 34},\n",
    "           {'id':4, 'name':'Dorothy Smith', 'age': 48},\n",
    "           {'id':5, 'name':'Sara Poe', 'age': 29},\n",
    "           {'id':6, 'name':'Kim Knott', 'age': 56},\n",
    "           {'id':7, 'name':'Joe Miller', 'age': 30},\n",
    "           {'id':8, 'name':'Jeff Nye', 'age': 32},\n",
    "           {'id':9, 'name':'Jane Doe', 'age': 44},\n",
    "           {'id':10, 'name':'Emily Tuck', 'age': 22} ]\n",
    "try:\n",
    "    for i in range(10):\n",
    "      # Write the records\n",
    "      client.put((namespace, tutorial_set, 'id'+str(people[i]['id'])), people[i])\n",
    "except Exception as e:\n",
    "  import sys\n",
    "  print(\"error: {0}\".format(e), file=sys.stderr)\n",
    "\n",
    "print('Test data populated.')"
   ]
  },
  {
   "cell_type": "markdown",
   "metadata": {},
   "source": [
    "### Create secondary indexes if necessary\n",
    "[To use the query API, a secondary index must exist on the query field.]\n",
    "\n",
    "[Replace or remove the code cell as appropriate.]"
   ]
  },
  {
   "cell_type": "code",
   "execution_count": null,
   "metadata": {
    "ExecuteTime": {
     "end_time": "2020-12-29T20:48:53.066005Z",
     "start_time": "2020-12-29T20:48:53.061118Z"
    }
   },
   "outputs": [],
   "source": [
    "import com.aerospike.client.policy.Policy;\n",
    "import com.aerospike.client.query.IndexType;\n",
    "import com.aerospike.client.task.IndexTask;\n",
    "import com.aerospike.client.AerospikeException;\n",
    "import com.aerospike.client.ResultCode;\n",
    "\n",
    "String IndexName = \"idx_numeric_test_demo_binint\";\n",
    "\n",
    "Policy policy = new Policy();\n",
    "policy.socketTimeout = 0; // Do not timeout on index create.\n",
    "\n",
    "try {\n",
    "    IndexTask task = client.createIndex(policy, Namespace, Set, IndexName, \n",
    "                                        BinInt, IndexType.NUMERIC);\n",
    "    task.waitTillComplete();\n",
    "}\n",
    "catch (AerospikeException ae) {\n",
    "    if (ae.getResultCode() != ResultCode.INDEX_ALREADY_EXISTS) {\n",
    "        throw ae;\n",
    "    }\n",
    "}\n",
    "\n",
    "System.out.format(\"Created index %s on ns=%s set=%s bin=%s.\", \n",
    "                                    IndexName, Namespace, Set, BinInt);"
   ]
  },
  {
   "cell_type": "code",
   "execution_count": null,
   "metadata": {
    "ExecuteTime": {
     "end_time": "2020-12-29T20:48:53.618076Z",
     "start_time": "2020-12-29T20:48:53.611337Z"
    }
   },
   "outputs": [],
   "source": [
    "# Must create an index to query on a bin\n",
    "index_name = \"test_demo_number_idx\"\n",
    "from aerospike import exception as ex\n",
    "try:\n",
    "    client.index_integer_create(Namespace, Set, \"age\", index_name)\n",
    "except ex.IndexFoundError:\n",
    "    pass\n",
    "\n",
    "print('Secondary index created.')"
   ]
  },
  {
   "cell_type": "markdown",
   "metadata": {},
   "source": [
    "# [Tutorial Section]\n",
    "\n",
    "[Section of the core of the tutorial.]"
   ]
  },
  {
   "cell_type": "markdown",
   "metadata": {},
   "source": [
    "## [Subsection 1]\n",
    "[Subsection 1]"
   ]
  },
  {
   "cell_type": "markdown",
   "metadata": {},
   "source": [
    "## [Subsection 2]\n",
    "[Subsection 2]"
   ]
  },
  {
   "cell_type": "markdown",
   "metadata": {},
   "source": [
    "# [Next Section]\n",
    "\n",
    "[Next section.]"
   ]
  },
  {
   "cell_type": "markdown",
   "metadata": {},
   "source": [
    "## [Subsection 1]\n",
    "[Subsection 1]"
   ]
  },
  {
   "cell_type": "markdown",
   "metadata": {},
   "source": [
    "## [Subsection 2]\n",
    "[Subsection 2]"
   ]
  },
  {
   "cell_type": "markdown",
   "metadata": {},
   "source": [
    "# Takeaways and Conclusion\n",
    "[Summarize the takeaways and conclusion of the tutorial.]"
   ]
  },
  {
   "cell_type": "markdown",
   "metadata": {},
   "source": [
    "# Clean up\n",
    "[Perform any cleanup - remove data, close connection, etc.]"
   ]
  },
  {
   "cell_type": "code",
   "execution_count": null,
   "metadata": {
    "ExecuteTime": {
     "end_time": "2020-12-29T20:49:19.972650Z",
     "start_time": "2020-12-29T20:49:19.967344Z"
    }
   },
   "outputs": [],
   "source": [
    "client.dropIndex(policy, Namespace, Set, IndexName);\n",
    "client.truncate(null, Namespace, Set)\n",
    "client.close();\n",
    "System.out.println(\"Removed tutorial data and server connection closed.\");"
   ]
  },
  {
   "cell_type": "code",
   "execution_count": null,
   "metadata": {
    "ExecuteTime": {
     "end_time": "2020-12-29T20:49:21.100931Z",
     "start_time": "2020-12-29T20:49:21.095318Z"
    }
   },
   "outputs": [],
   "source": [
    "client.index_remove(namespace, index_name)¶\n",
    "client.truncate(namespace, tutorial_set, 0)\n",
    "# Close the connection to the Aerospike cluster\n",
    "client.close()\n",
    "print('Removed tutorial data. Connection closed.')"
   ]
  },
  {
   "cell_type": "markdown",
   "metadata": {},
   "source": [
    "# Further Exploration and Resources\n",
    "[Point to the topics that the developer should explore.]\n",
    "\n",
    "Resources\n",
    "- [Related notebooks, for example:]\n",
    "    - [Queries](https://github.com/aerospike/aerospike-dev-notebooks.docker/blob/main/notebooks/python/query.ipynb)\n",
    "- [Blog posts]\n",
    "- [Doc links]\n",
    "- [Other resources]"
   ]
  },
  {
   "cell_type": "markdown",
   "metadata": {},
   "source": [
    "## Next steps\n",
    "\n",
    "Visit [Aerospike notebooks repo](https://github.com/aerospike-examples/interactive-notebooks) to run additional Aerospike notebooks. To run a different notebook, download the notebook from the repo to your local machine, and then click on File->Open, and select Upload."
   ]
  }
 ],
 "metadata": {
  "kernelspec": {
   "display_name": "Python 3",
   "language": "python",
   "name": "python3"
  },
  "language_info": {
   "codemirror_mode": {
    "name": "ipython",
    "version": 3
   },
   "file_extension": ".py",
   "mimetype": "text/x-python",
   "name": "python",
   "nbconvert_exporter": "python",
   "pygments_lexer": "ipython3",
   "version": "3.8.6"
  },
  "toc": {
   "base_numbering": 1,
   "nav_menu": {},
   "number_sections": true,
   "sideBar": true,
   "skip_h1_title": false,
   "title_cell": "Table of Contents",
   "title_sidebar": "Contents",
   "toc_cell": true,
   "toc_position": {},
   "toc_section_display": true,
   "toc_window_display": false
  }
 },
 "nbformat": 4,
 "nbformat_minor": 4
}
